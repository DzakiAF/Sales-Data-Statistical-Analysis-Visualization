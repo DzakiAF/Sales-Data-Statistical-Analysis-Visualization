{
 "cells": [
  {
   "cell_type": "markdown",
   "metadata": {},
   "source": [
    "# 1. Perkenalan"
   ]
  },
  {
   "cell_type": "markdown",
   "metadata": {},
   "source": [
    "### Introduction\n",
    "\n",
    "```\n",
    "===================================================================================================================================\n",
    "MILESTONE PHASE 0\n",
    "\n",
    "Nama  : DZAKI AHMAD FARDIAN\n",
    "Batch : 024\n",
    "\n",
    "Pada Milestone ini saya akan melakukan analisis terhadap data yang diambil website penyedia dataset: Kaggle.com. Data yang saya gunakan adalah data sales perusahaan untuk barang Electronics & Accessories. Di sini saya akan melakukan penjabaran masalah, penyajian & pembersihan data, analisis data, visualisasi data dan pengambilan keputusan hasil analisis tersebut. \n",
    "===================================================================================================================================\n",
    "```"
   ]
  },
  {
   "cell_type": "markdown",
   "metadata": {},
   "source": [
    "Link to Tableau : https://public.tableau.com/app/profile/dzaki.af/viz/Milestone1_17345144833180/StatisticAnalysis?publish=yes"
   ]
  },
  {
   "cell_type": "markdown",
   "metadata": {},
   "source": [
    "# 2. Identifikasi Masalah"
   ]
  },
  {
   "cell_type": "markdown",
   "metadata": {},
   "source": [
    "## 1. Latar Belakang\n",
    "    Dalam era digital yang berkembang pesat, e-commerce telah menjadi salah satu pilar utama dalam dunia bisnis modern. Perkembangan teknologi informasi, terutama internet, telah mengubah cara masyarakat berbelanja dan bertransaksi. Transformasi ini tidak hanya memberikan dampak signifikan terhadap pola konsumsi, tetapi juga membuka peluang baru bagi pelaku usaha, baik skala kecil maupun besar.\n",
    "    Banyaknya kompetitor yang memanfaatkan teknologi sebagai bantuan dalam berjualan membuat perusahaan ingin bersaing dalam e-commerce.\n",
    "    Perusahaan berencana memaksimalkan penjualan. Agar dapat bersaing dengan penjual lain, perusahaan ingin memproduksi barang yang sedang populer di pasar. Maka pihak perusahaan membutuhkan data hasil analisis kinerja produk."
   ]
  },
  {
   "cell_type": "markdown",
   "metadata": {},
   "source": [
    "## 2. S.M.A.R.T:\n",
    "1. Spesific   : Perusahaan akan meiningkatkan penujualan dengan mencari tau product apa yang paling banyak terjual.\n",
    "2. Measurable : Perusahaan ingin meningkatkan penjualan barang sebesar 20%.\n",
    "3. Achievable : Perusahaan menyesuaikan barang dagangan dengan barang yang sedang populer di pasar.\n",
    "4. Relevant   : Meningkatkan pendapatan jika perusahaan bisa mengetahui barang terpopuler dari sebuah sample.\n",
    "5. Time-Bound : Perubahan ini dapat di capai selama 3 bulan. Bisa kita jabarkan menjadi : \n",
    "    1. Minggu 1-2 penyusunan strategi analisis.\n",
    "    2. Minggu 3-4 pengumpulan data.\n",
    "    3. Minggu 5-6 Analisis data.\n",
    "    4. Minggu 7-8 Perencanaan strategi baru untuk bisnis \n",
    "    5. Minggu 9-11 Implementasi Strategi baru.\n",
    "    6. Minggu 12 Evaluasi hasil pengimplementasian strategi baru.\n",
    "\n",
    "6. Problem Statement :\n",
    "\tPerushaan ingin meningkatkan penjualan sebesar 20%. Hal ini dilakukan dengan bantuan analisis korelasi antara Product Name dan Category Product dengan Quantity Terjual dan Harga Product. Dari data hasil analisis ini dapat dilihat barang apa yang populer di pasar. Peningkatan penjualan diperkirakan dapat dicapai dalam waktu 3 bulan.\n",
    "\n",
    "7. User : Hasil analisis ini dapat digunakan oleh team pengembangan bisnis dari perusahaan agar dapat membuat strategi bisnis berdasarkan kesimpulan yang diambil dari hasil analisis."
   ]
  },
  {
   "cell_type": "markdown",
   "metadata": {},
   "source": [
    "\n",
    "## 3. Penjabaran Masalah\n",
    "1. Statistik Inferensial:\n",
    "    Di sini saya akan melakukan Uji Hipotesis untuk sebuah pertanyaan :\n",
    "    - Apakah gender customer laki-laki (male) lebih banyak membeli product dari perempuan (female)?\n",
    "\n",
    "2. Visualisasi Data:\n",
    "    Akan ada beberapa visualisasi data seputar pertanyaan berikut ini :\n",
    "    - Product apa yang terjual paling banyak?\n",
    "    - Category apa yang terjual paling banyak ?\n",
    "    - Category apa yang sering di Return customer?\n",
    "    - Bagaimana tren penjualan dari waktu ke waktu?\n",
    "\n",
    "3. Statistik Deskriptif:\n",
    "    Untuk statistik Deskriptif saya akan melakukan sebuah Uji Korelasi untuk menjawab pertanyaan berikut :\n",
    "    - Apakah customer cenderung memilih product dengan harga murah?"
   ]
  },
  {
   "cell_type": "markdown",
   "metadata": {},
   "source": [
    "# 3. Data Loading"
   ]
  },
  {
   "cell_type": "markdown",
   "metadata": {},
   "source": [
    "Data set yang saya gunakan berasal dari Kaggle.com berikut link datasetnya : \n",
    "\n",
    "https://www.kaggle.com/datasets/brsahan/e-commerce-dataset/data"
   ]
  },
  {
   "cell_type": "markdown",
   "metadata": {},
   "source": [
    "Import Libary yang akan digunakan"
   ]
  },
  {
   "cell_type": "code",
   "execution_count": 1,
   "metadata": {},
   "outputs": [],
   "source": [
    "import pandas as pd\n",
    "from scipy import stats\n",
    "import plotly.express as px"
   ]
  },
  {
   "cell_type": "markdown",
   "metadata": {},
   "source": [
    "Melakukan read data."
   ]
  },
  {
   "cell_type": "code",
   "execution_count": 2,
   "metadata": {},
   "outputs": [],
   "source": [
    "ms = pd.read_csv('realistic_e_commerce_sales_data.csv')"
   ]
  },
  {
   "cell_type": "markdown",
   "metadata": {},
   "source": [
    "Menampilkan data."
   ]
  },
  {
   "cell_type": "code",
   "execution_count": 3,
   "metadata": {},
   "outputs": [
    {
     "data": {
      "text/html": [
       "<div>\n",
       "<style scoped>\n",
       "    .dataframe tbody tr th:only-of-type {\n",
       "        vertical-align: middle;\n",
       "    }\n",
       "\n",
       "    .dataframe tbody tr th {\n",
       "        vertical-align: top;\n",
       "    }\n",
       "\n",
       "    .dataframe thead th {\n",
       "        text-align: right;\n",
       "    }\n",
       "</style>\n",
       "<table border=\"1\" class=\"dataframe\">\n",
       "  <thead>\n",
       "    <tr style=\"text-align: right;\">\n",
       "      <th></th>\n",
       "      <th>Customer ID</th>\n",
       "      <th>Gender</th>\n",
       "      <th>Region</th>\n",
       "      <th>Age</th>\n",
       "      <th>Product Name</th>\n",
       "      <th>Category</th>\n",
       "      <th>Unit Price</th>\n",
       "      <th>Quantity</th>\n",
       "      <th>Total Price</th>\n",
       "      <th>Shipping Fee</th>\n",
       "      <th>Shipping Status</th>\n",
       "      <th>Order Date</th>\n",
       "    </tr>\n",
       "  </thead>\n",
       "  <tbody>\n",
       "    <tr>\n",
       "      <th>0</th>\n",
       "      <td>CUST0268</td>\n",
       "      <td>Male</td>\n",
       "      <td>North</td>\n",
       "      <td>NaN</td>\n",
       "      <td>Monitor</td>\n",
       "      <td>Electronics</td>\n",
       "      <td>300.0</td>\n",
       "      <td>5</td>\n",
       "      <td>1500</td>\n",
       "      <td>13.31</td>\n",
       "      <td>Returned</td>\n",
       "      <td>2023-12-08</td>\n",
       "    </tr>\n",
       "    <tr>\n",
       "      <th>1</th>\n",
       "      <td>CUST0046</td>\n",
       "      <td>Male</td>\n",
       "      <td>West</td>\n",
       "      <td>22.0</td>\n",
       "      <td>Headphones</td>\n",
       "      <td>Accessories</td>\n",
       "      <td>100.0</td>\n",
       "      <td>2</td>\n",
       "      <td>200</td>\n",
       "      <td>6.93</td>\n",
       "      <td>In Transit</td>\n",
       "      <td>2023-04-09</td>\n",
       "    </tr>\n",
       "    <tr>\n",
       "      <th>2</th>\n",
       "      <td>CUST0169</td>\n",
       "      <td>Female</td>\n",
       "      <td>South</td>\n",
       "      <td>54.0</td>\n",
       "      <td>Monitor</td>\n",
       "      <td>Electronics</td>\n",
       "      <td>300.0</td>\n",
       "      <td>1</td>\n",
       "      <td>300</td>\n",
       "      <td>11.31</td>\n",
       "      <td>Returned</td>\n",
       "      <td>2023-08-28</td>\n",
       "    </tr>\n",
       "    <tr>\n",
       "      <th>3</th>\n",
       "      <td>CUST0002</td>\n",
       "      <td>Male</td>\n",
       "      <td>North</td>\n",
       "      <td>23.0</td>\n",
       "      <td>Headphones</td>\n",
       "      <td>Accessories</td>\n",
       "      <td>100.0</td>\n",
       "      <td>5</td>\n",
       "      <td>500</td>\n",
       "      <td>12.22</td>\n",
       "      <td>Delivered</td>\n",
       "      <td>2023-01-18</td>\n",
       "    </tr>\n",
       "    <tr>\n",
       "      <th>4</th>\n",
       "      <td>CUST0173</td>\n",
       "      <td>Female</td>\n",
       "      <td>South</td>\n",
       "      <td>NaN</td>\n",
       "      <td>Laptop</td>\n",
       "      <td>Electronics</td>\n",
       "      <td>1500.0</td>\n",
       "      <td>3</td>\n",
       "      <td>4500</td>\n",
       "      <td>5.40</td>\n",
       "      <td>Delivered</td>\n",
       "      <td>2023-01-19</td>\n",
       "    </tr>\n",
       "    <tr>\n",
       "      <th>...</th>\n",
       "      <td>...</td>\n",
       "      <td>...</td>\n",
       "      <td>...</td>\n",
       "      <td>...</td>\n",
       "      <td>...</td>\n",
       "      <td>...</td>\n",
       "      <td>...</td>\n",
       "      <td>...</td>\n",
       "      <td>...</td>\n",
       "      <td>...</td>\n",
       "      <td>...</td>\n",
       "      <td>...</td>\n",
       "    </tr>\n",
       "    <tr>\n",
       "      <th>995</th>\n",
       "      <td>CUST0201</td>\n",
       "      <td>Female</td>\n",
       "      <td>South</td>\n",
       "      <td>49.0</td>\n",
       "      <td>Headphones</td>\n",
       "      <td>Accessories</td>\n",
       "      <td>100.0</td>\n",
       "      <td>1</td>\n",
       "      <td>100</td>\n",
       "      <td>17.21</td>\n",
       "      <td>In Transit</td>\n",
       "      <td>2023-01-05</td>\n",
       "    </tr>\n",
       "    <tr>\n",
       "      <th>996</th>\n",
       "      <td>CUST0133</td>\n",
       "      <td>Male</td>\n",
       "      <td>East</td>\n",
       "      <td>47.0</td>\n",
       "      <td>Laptop</td>\n",
       "      <td>Electronics</td>\n",
       "      <td>1500.0</td>\n",
       "      <td>1</td>\n",
       "      <td>1500</td>\n",
       "      <td>19.19</td>\n",
       "      <td>Delivered</td>\n",
       "      <td>2023-04-01</td>\n",
       "    </tr>\n",
       "    <tr>\n",
       "      <th>997</th>\n",
       "      <td>CUST0055</td>\n",
       "      <td>Female</td>\n",
       "      <td>North</td>\n",
       "      <td>NaN</td>\n",
       "      <td>Mouse</td>\n",
       "      <td>Accessories</td>\n",
       "      <td>30.0</td>\n",
       "      <td>5</td>\n",
       "      <td>150</td>\n",
       "      <td>19.35</td>\n",
       "      <td>Delivered</td>\n",
       "      <td>2023-10-20</td>\n",
       "    </tr>\n",
       "    <tr>\n",
       "      <th>998</th>\n",
       "      <td>CUST0023</td>\n",
       "      <td>Female</td>\n",
       "      <td>South</td>\n",
       "      <td>29.0</td>\n",
       "      <td>Laptop</td>\n",
       "      <td>Electronics</td>\n",
       "      <td>1500.0</td>\n",
       "      <td>5</td>\n",
       "      <td>7500</td>\n",
       "      <td>10.36</td>\n",
       "      <td>Returned</td>\n",
       "      <td>2023-01-07</td>\n",
       "    </tr>\n",
       "    <tr>\n",
       "      <th>999</th>\n",
       "      <td>CUST0040</td>\n",
       "      <td>Male</td>\n",
       "      <td>NaN</td>\n",
       "      <td>29.0</td>\n",
       "      <td>Smartwatch</td>\n",
       "      <td>Wearables</td>\n",
       "      <td>200.0</td>\n",
       "      <td>1</td>\n",
       "      <td>200</td>\n",
       "      <td>7.53</td>\n",
       "      <td>Delivered</td>\n",
       "      <td>2023-01-30</td>\n",
       "    </tr>\n",
       "  </tbody>\n",
       "</table>\n",
       "<p>1000 rows × 12 columns</p>\n",
       "</div>"
      ],
      "text/plain": [
       "    Customer ID  Gender Region   Age Product Name     Category  Unit Price  \\\n",
       "0      CUST0268    Male  North   NaN      Monitor  Electronics       300.0   \n",
       "1      CUST0046    Male   West  22.0   Headphones  Accessories       100.0   \n",
       "2      CUST0169  Female  South  54.0      Monitor  Electronics       300.0   \n",
       "3      CUST0002    Male  North  23.0   Headphones  Accessories       100.0   \n",
       "4      CUST0173  Female  South   NaN       Laptop  Electronics      1500.0   \n",
       "..          ...     ...    ...   ...          ...          ...         ...   \n",
       "995    CUST0201  Female  South  49.0   Headphones  Accessories       100.0   \n",
       "996    CUST0133    Male   East  47.0       Laptop  Electronics      1500.0   \n",
       "997    CUST0055  Female  North   NaN        Mouse  Accessories        30.0   \n",
       "998    CUST0023  Female  South  29.0       Laptop  Electronics      1500.0   \n",
       "999    CUST0040    Male    NaN  29.0   Smartwatch    Wearables       200.0   \n",
       "\n",
       "     Quantity  Total Price  Shipping Fee Shipping Status  Order Date  \n",
       "0           5         1500         13.31        Returned  2023-12-08  \n",
       "1           2          200          6.93      In Transit  2023-04-09  \n",
       "2           1          300         11.31        Returned  2023-08-28  \n",
       "3           5          500         12.22       Delivered  2023-01-18  \n",
       "4           3         4500          5.40       Delivered  2023-01-19  \n",
       "..        ...          ...           ...             ...         ...  \n",
       "995         1          100         17.21      In Transit  2023-01-05  \n",
       "996         1         1500         19.19       Delivered  2023-04-01  \n",
       "997         5          150         19.35       Delivered  2023-10-20  \n",
       "998         5         7500         10.36        Returned  2023-01-07  \n",
       "999         1          200          7.53       Delivered  2023-01-30  \n",
       "\n",
       "[1000 rows x 12 columns]"
      ]
     },
     "execution_count": 3,
     "metadata": {},
     "output_type": "execute_result"
    }
   ],
   "source": [
    "ms"
   ]
  },
  {
   "cell_type": "markdown",
   "metadata": {},
   "source": [
    "## Penjabaran data secara general"
   ]
  },
  {
   "cell_type": "markdown",
   "metadata": {},
   "source": [
    "Data ini adalah data penjualan barang electronic dan gadget. Di sini kita dapatkan column :\n",
    "- Customer ID : Sebagai Primary Key dari tiap transaksi.\n",
    "- Gender : Kelamin customer.\n",
    "- Region : Wilayah tempat tinggal customer.\n",
    "- Age : Umur customer.\n",
    "- Product Name : Untuk Product Name isinya bukan langsung nama productnya (ex: Laptop Lenovo...) melainkan jenis barangnya. Seperti Laptop, Monitor, Headphones, Smartphone.\n",
    "- Category : Toko memiliki category sendiri yaitu Electronics (untuk Monitor, Laptop), Accessories (untuk Headphones) dan Wearables (Smartwatch).\n",
    "- Unit Price : Harga per-unit.\n",
    "- Quantity : Jumlah barang yang dibeli customer.\n",
    "- Total Price : Jumlah yang harus dibayarkan customer untuk semua barang per-transaksi.\n",
    "- Shipping Fee : Harga jasa pengiriman.\n",
    "- Shipping Status : Status pengiriman barang.\n",
    "- Order Date : Tanggal dilakukannya order."
   ]
  },
  {
   "cell_type": "markdown",
   "metadata": {},
   "source": [
    "## Missing Value dan Data Type."
   ]
  },
  {
   "cell_type": "markdown",
   "metadata": {},
   "source": [
    "Saya akan menggunakan function .info() untuk menampilkan informasi dari dataframe."
   ]
  },
  {
   "cell_type": "code",
   "execution_count": 4,
   "metadata": {},
   "outputs": [
    {
     "name": "stdout",
     "output_type": "stream",
     "text": [
      "<class 'pandas.core.frame.DataFrame'>\n",
      "RangeIndex: 1000 entries, 0 to 999\n",
      "Data columns (total 12 columns):\n",
      " #   Column           Non-Null Count  Dtype  \n",
      "---  ------           --------------  -----  \n",
      " 0   Customer ID      1000 non-null   object \n",
      " 1   Gender           1000 non-null   object \n",
      " 2   Region           950 non-null    object \n",
      " 3   Age              900 non-null    float64\n",
      " 4   Product Name     1000 non-null   object \n",
      " 5   Category         1000 non-null   object \n",
      " 6   Unit Price       1000 non-null   float64\n",
      " 7   Quantity         1000 non-null   int64  \n",
      " 8   Total Price      1000 non-null   int64  \n",
      " 9   Shipping Fee     1000 non-null   float64\n",
      " 10  Shipping Status  950 non-null    object \n",
      " 11  Order Date       1000 non-null   object \n",
      "dtypes: float64(3), int64(2), object(7)\n",
      "memory usage: 93.9+ KB\n"
     ]
    }
   ],
   "source": [
    "ms.info()"
   ]
  },
  {
   "cell_type": "markdown",
   "metadata": {},
   "source": [
    "Berikut untuk memastikan berapa jumlah pasti nilai null."
   ]
  },
  {
   "cell_type": "code",
   "execution_count": 5,
   "metadata": {},
   "outputs": [
    {
     "data": {
      "text/plain": [
       "Customer ID          0\n",
       "Gender               0\n",
       "Region              50\n",
       "Age                100\n",
       "Product Name         0\n",
       "Category             0\n",
       "Unit Price           0\n",
       "Quantity             0\n",
       "Total Price          0\n",
       "Shipping Fee         0\n",
       "Shipping Status     50\n",
       "Order Date           0\n",
       "dtype: int64"
      ]
     },
     "execution_count": 5,
     "metadata": {},
     "output_type": "execute_result"
    }
   ],
   "source": [
    "ms.isnull().sum()"
   ]
  },
  {
   "cell_type": "markdown",
   "metadata": {},
   "source": [
    "**KESIMPULAN :**\n",
    "\n",
    "Tidak ada nilai duplicated.\n",
    "Di sini kita bisa lihat terdapat data yang bernilai 950, 950 dan 900. Artinya ada data yang salah satu kolomnya berisikan null. Nanti saya akan lakukan penghapusan pada row tersebut di tahap data cleaning. Kemudian untuk 'Order Date' bertipe data object. Saya akan ubah menjadi Date."
   ]
  },
  {
   "cell_type": "markdown",
   "metadata": {},
   "source": [
    "## Duplicated Value"
   ]
  },
  {
   "cell_type": "markdown",
   "metadata": {},
   "source": [
    "Berikut saya menggunakan function duplicated untuk mengecek duplicated dan saya aggregasi sum untuk nilai duplicatednya. "
   ]
  },
  {
   "cell_type": "code",
   "execution_count": 6,
   "metadata": {},
   "outputs": [
    {
     "data": {
      "text/plain": [
       "np.int64(0)"
      ]
     },
     "execution_count": 6,
     "metadata": {},
     "output_type": "execute_result"
    }
   ],
   "source": [
    "ms.duplicated().sum()"
   ]
  },
  {
   "cell_type": "markdown",
   "metadata": {},
   "source": [
    "**Kesimpulan :**\n",
    "\n",
    "Tidak ada nilai duplicated."
   ]
  },
  {
   "cell_type": "markdown",
   "metadata": {},
   "source": [
    "# 4. Data Cleaning"
   ]
  },
  {
   "cell_type": "markdown",
   "metadata": {},
   "source": [
    "## Handling Missing Value"
   ]
  },
  {
   "cell_type": "markdown",
   "metadata": {},
   "source": [
    "Sebelumnya pada column 'Region', 'Age' dan 'Shipping Status' aku gunakan function dropna() untuk menghapus row yang terdapat nilai nullnya."
   ]
  },
  {
   "cell_type": "code",
   "execution_count": 7,
   "metadata": {},
   "outputs": [],
   "source": [
    "ms.dropna(subset=['Region'], inplace=True)\n",
    "ms.dropna(subset=['Age'], inplace=True)\n",
    "ms.dropna(subset=['Shipping Status'], inplace=True)"
   ]
  },
  {
   "cell_type": "markdown",
   "metadata": {},
   "source": [
    "## Change Data Type"
   ]
  },
  {
   "cell_type": "markdown",
   "metadata": {},
   "source": [
    "Di bawah ini saya ubah tipe data 'Order Date' menjadi Date."
   ]
  },
  {
   "cell_type": "code",
   "execution_count": 8,
   "metadata": {},
   "outputs": [],
   "source": [
    "ms['Order Date'] = pd.to_datetime(ms['Order Date'])"
   ]
  },
  {
   "cell_type": "markdown",
   "metadata": {},
   "source": [
    "Di sini kita bisa lihat nilai rownya menjadi 810. Artinya terdapat 190 row yang terhapus. Dan untuk 'Order Date' sudah menjadi datetime."
   ]
  },
  {
   "cell_type": "code",
   "execution_count": 9,
   "metadata": {},
   "outputs": [
    {
     "name": "stdout",
     "output_type": "stream",
     "text": [
      "<class 'pandas.core.frame.DataFrame'>\n",
      "Index: 810 entries, 1 to 998\n",
      "Data columns (total 12 columns):\n",
      " #   Column           Non-Null Count  Dtype         \n",
      "---  ------           --------------  -----         \n",
      " 0   Customer ID      810 non-null    object        \n",
      " 1   Gender           810 non-null    object        \n",
      " 2   Region           810 non-null    object        \n",
      " 3   Age              810 non-null    float64       \n",
      " 4   Product Name     810 non-null    object        \n",
      " 5   Category         810 non-null    object        \n",
      " 6   Unit Price       810 non-null    float64       \n",
      " 7   Quantity         810 non-null    int64         \n",
      " 8   Total Price      810 non-null    int64         \n",
      " 9   Shipping Fee     810 non-null    float64       \n",
      " 10  Shipping Status  810 non-null    object        \n",
      " 11  Order Date       810 non-null    datetime64[ns]\n",
      "dtypes: datetime64[ns](1), float64(3), int64(2), object(6)\n",
      "memory usage: 82.3+ KB\n"
     ]
    }
   ],
   "source": [
    "ms.info()"
   ]
  },
  {
   "cell_type": "markdown",
   "metadata": {},
   "source": [
    "Saya lakukan pengecekkan kembali untuk nilai nullnya."
   ]
  },
  {
   "cell_type": "code",
   "execution_count": 10,
   "metadata": {},
   "outputs": [
    {
     "data": {
      "text/plain": [
       "Customer ID        0\n",
       "Gender             0\n",
       "Region             0\n",
       "Age                0\n",
       "Product Name       0\n",
       "Category           0\n",
       "Unit Price         0\n",
       "Quantity           0\n",
       "Total Price        0\n",
       "Shipping Fee       0\n",
       "Shipping Status    0\n",
       "Order Date         0\n",
       "dtype: int64"
      ]
     },
     "execution_count": 10,
     "metadata": {},
     "output_type": "execute_result"
    }
   ],
   "source": [
    "ms.isnull().sum()"
   ]
  },
  {
   "cell_type": "markdown",
   "metadata": {},
   "source": [
    "## Export cleaned data."
   ]
  },
  {
   "cell_type": "markdown",
   "metadata": {},
   "source": [
    "Data ini saya export menjadi format xlsx yang nanti akan digunakan pada pembuatan dashboard."
   ]
  },
  {
   "cell_type": "code",
   "execution_count": 11,
   "metadata": {},
   "outputs": [],
   "source": [
    "ms.to_excel(\"cleaned_sales_data.xlsx\")"
   ]
  },
  {
   "cell_type": "markdown",
   "metadata": {},
   "source": [
    "# 5. Analisis dan Perhitungan"
   ]
  },
  {
   "cell_type": "markdown",
   "metadata": {},
   "source": [
    "## Skewness"
   ]
  },
  {
   "cell_type": "markdown",
   "metadata": {},
   "source": [
    "Nilai Skewness akan menentukan kemiringan sebuah data. Skewness dari skewness kita bisa mengkategorikan sebuah data sebagai \n",
    "- Approximately Symmetric (-0,5 sampai 0,5)\n",
    "- Moderately Skewed (-1 sampai -0,5 dan 05 sampai 1)\n",
    "- Highly skewed (kurang dari -1 dan lebih dari 1). \n",
    "\n",
    "Plus-Minus di sini menandakan data akan condong ke arah kanan atau kiri (Positive atau Negative)"
   ]
  },
  {
   "cell_type": "code",
   "execution_count": 12,
   "metadata": {},
   "outputs": [
    {
     "name": "stdout",
     "output_type": "stream",
     "text": [
      " Skew  Unit Price : 1.5044121674676028\n",
      " Skew Quantity : -0.018366427444406756\n",
      " Skew Total Price : 2.0085177038694453\n"
     ]
    }
   ],
   "source": [
    "# Saya membuat variable skew untuk masing-masing column dengan nilai skew yang diambil dari function .skew().\n",
    "skew_unit_price = ms['Unit Price'].skew()\n",
    "skew_quantity = ms['Quantity'].skew()\n",
    "skew_total_price = ms['Total Price'].skew()\n",
    "\n",
    "# tampilkan variablenya.\n",
    "print(f' Skew  Unit Price : {skew_unit_price}')\n",
    "print(f' Skew Quantity : {skew_quantity}')\n",
    "print(f' Skew Total Price : {skew_total_price}')"
   ]
  },
  {
   "cell_type": "markdown",
   "metadata": {},
   "source": [
    "**KESIMPULAN:** \n",
    "\n",
    "Di atas ini untuk nilai skewnya. Untuk Unit Price dan Total Price, memiliki nilai lebih dari -0.5 atau lebih dari 0.5, jadi datanya sudah dapat dipastikan tidak symmetric. Pada skew ini kita bisa simpulkan bahwa datanya miring ke kanan (Positively Skew) dan Highly Skew. Namun untuk Quantity, data dikategorikan sebagai Approximately Symetric. Dari sini kita bisa mengira-ngira bahwa nilai data tidak Normal."
   ]
  },
  {
   "cell_type": "markdown",
   "metadata": {},
   "source": [
    "## Kurtosis"
   ]
  },
  {
   "cell_type": "markdown",
   "metadata": {},
   "source": [
    "Nilai kurtosis juga digunakan untuk melihat apakah data terdistribusi dengan normal. Pada kurtosis ini kita bisa mendapat kesimpulan apakah datanya memiliki Outlier. Outlier ini artinya ada data yang berada jauh dari kumpulan data lainnya. Kalau banyak data yang menjadi outlier, maka data ini tidak terdistribusi dengan normal. Ada tiga jenis hasil kurtosis.\n",
    "- Kurotis Leptokurtic, nilainya lebih dari 3. Leptokurtic ini kalau dalam penggambarannya, memiliki puncak yang tajam. Pada kurtosis ini lebih banyak memiliki outlier dari kurtosis lainnya.\n",
    "- Kurtosis Mesokurtic, nilainya sama dengan 3. Untuk Mesokurtic gambarannya mirip distribusi normal. Jumlah outliernya tidak signifikan.\n",
    "- Kurtosis Platikurtic, nilanya kurang dari 3. Untuk Platikurtic puncak pada gambarnya datar. Data lebih terkonsentrasi sehingga variasinya kecil."
   ]
  },
  {
   "cell_type": "code",
   "execution_count": 13,
   "metadata": {},
   "outputs": [
    {
     "name": "stdout",
     "output_type": "stream",
     "text": [
      " Kurtosis  Unit Price : 1.8478917038097245\n",
      " Kurtosis Quantity : -1.2894363537964701\n",
      " Kurtosis Total Price : 3.473910848456027\n"
     ]
    }
   ],
   "source": [
    "# Saya membuat variable skew untuk masing-masing column dengan nilai skew yang diambil dari function .kurtosis()\n",
    "kurtosis_unit_price = ms['Unit Price'].kurtosis()\n",
    "kurtosis_quantity = ms['Quantity'].kurtosis()\n",
    "kurtosis_total_price = ms['Total Price'].kurtosis()\n",
    "\n",
    "# tampilkan variablenya\n",
    "print(f' Kurtosis  Unit Price : {kurtosis_unit_price}')\n",
    "print(f' Kurtosis Quantity : {kurtosis_quantity}')\n",
    "print(f' Kurtosis Total Price : {kurtosis_total_price}')"
   ]
  },
  {
   "cell_type": "markdown",
   "metadata": {},
   "source": [
    "**KESIMPULAN:**\n",
    "\n",
    "Untuk Unit Price dan Total Price di sini memiliki nilai Kurtosis yang berbeda. Di sini Unit Price dikategorikan sebagai Platikurtic sedangkan Total Price sebagai Leptokurtic. Artinya Unit Price nilainya lebih terkonsentrasi, hal ini disebabkan karena data berasal dari 1 perusahaan dan variasi harganya yang sedikit.\n",
    " \n",
    "Sedangkan untuk Total Price, karena customer membeli product yang berbeda-beda dengan jumlah yang berbeda-beda juga. Maka dari itu Total Price memiliki banyak Outlier. Yang terakhir Quantity dikategorikan sebagai Platikurtic. \n",
    "\n",
    "Di sini Quantity lebih terkonsentrasi dari pada Unit Price. Hal ini saya rasa dikarenakan untuk Quantity yang dibeli tidak akan terlalu banyak, mengingat product yang dijual adalah electronic dan wearables. Tidak mungkin seorang customer membeli SmartPhone sebanyak 1000 dalam sekali transaksi, kecuali distributor. Tetapi Distributor tidak beli dari toko langsung. Jadi kemungkinan ada variasi sangat kecil."
   ]
  },
  {
   "cell_type": "markdown",
   "metadata": {},
   "source": [
    "## Uji Normalitas untuk menentukan pemakaian metode saat Uji Hipotesis dan Uji Korelasi."
   ]
  },
  {
   "cell_type": "markdown",
   "metadata": {},
   "source": [
    "Sebelumnya saya sudah menampilkan Skewness dan Kurtosis yang menandakan terdapat variasi yang sangat banyak untuk data-datanya. Jadi sebelum saya melakukan Uji Hipoteses saya akan menguji Normalitas Data. Uji Normalitas ini dilakukan agar saya bisa menentukan metode yang nantinya saya akan pakai untuk Uji Hipotesis dan Uji Korelasi. Karena beberapa metode hanya bisa digunakan pada saat Data terdistribusi tidak normal. Di bawah ini saya menggunakan metode Shapiro untuk Uji Normalitas."
   ]
  },
  {
   "cell_type": "markdown",
   "metadata": {},
   "source": [
    "### Uji Normalitas Quantity."
   ]
  },
  {
   "cell_type": "markdown",
   "metadata": {},
   "source": [
    "Quantity akan dipakai pada Uji Hipotesis dan juga Uji Korelasi."
   ]
  },
  {
   "cell_type": "code",
   "execution_count": 14,
   "metadata": {},
   "outputs": [
    {
     "name": "stdout",
     "output_type": "stream",
     "text": [
      "p-value: 9.074856616240531e-24\n"
     ]
    }
   ],
   "source": [
    "# buat variable yang isinya menggunakan function .shapiro() dari scipy untuk uji normalitas pada column Quantity.\n",
    "res = stats.shapiro(ms['Quantity'])\n",
    "print(f'p-value: {res.pvalue}')"
   ]
  },
  {
   "cell_type": "markdown",
   "metadata": {},
   "source": [
    "**KESIMPULAN :**\n",
    "\n",
    "Dari hasil Uji Normalitas di atas, saya dapatkan nilai : 9.074856616240531e-24. Nilai ini lebih kecil dari signifikan level: 0,05. Dari sini kita bisa mengetahui bahwa data Quantity ini tidak terdistribusi dengan normal. Sehingga untuk Uji Hipotesis saya akan menggunakan Uji Mann-Whitney U. "
   ]
  },
  {
   "cell_type": "markdown",
   "metadata": {},
   "source": [
    "### Uji Normalitas Unit Price."
   ]
  },
  {
   "cell_type": "markdown",
   "metadata": {},
   "source": [
    "Di bawah ini saya uji juga untuk nilai Unit Price yang nanti akan dipakai saat Uji Korelasi."
   ]
  },
  {
   "cell_type": "code",
   "execution_count": 15,
   "metadata": {},
   "outputs": [
    {
     "name": "stdout",
     "output_type": "stream",
     "text": [
      "p-value: 4.820219008266184e-34\n"
     ]
    }
   ],
   "source": [
    "# buat variable yang isinya menggunakan function .shapiro() dari scipy untuk uji normalitas pada column Unit Price.\n",
    "res = stats.shapiro(ms['Unit Price'])\n",
    "print(f'p-value: {res.pvalue}')"
   ]
  },
  {
   "cell_type": "markdown",
   "metadata": {},
   "source": [
    "**KESIMPULAN :**\n",
    "\n",
    "Hasilnya Unit Price juga tidak terdistribusi dengan normal. Untuk Uji Korelasi akan saya gunakan metode Spearman. Karena Spearman dipakai saat data tidak terdistribusi dengan normal dan data numerical."
   ]
  },
  {
   "cell_type": "markdown",
   "metadata": {},
   "source": [
    "## Uji Hipotesis - Statistik Inferensial "
   ]
  },
  {
   "cell_type": "markdown",
   "metadata": {},
   "source": [
    "Di sini saya akan menganalisis sebuah pertanyaan yang muncul menggunakan Statistik Inferensial.\n",
    "\n",
    "'Apakah gender customer laki-laki (male) lebih banyak membeli product dari perempuan (female)?'\n",
    "\n",
    " Sebelumnya saya menyebutkan akan menggunakan Uji Mann-Whiteney U. Alasan penggunaan uji ini ini selain data tidak terdistribusi tidak normal, saya akan menggunakan 2 variable yang bersifat Categorical (Gender) dengan Numerical (Quantity)."
   ]
  },
  {
   "cell_type": "markdown",
   "metadata": {},
   "source": [
    "Di sini saya menggunakan Hipotesis berikut ini."
   ]
  },
  {
   "cell_type": "markdown",
   "metadata": {},
   "source": [
    "### Hipotesis"
   ]
  },
  {
   "cell_type": "markdown",
   "metadata": {},
   "source": [
    "- H0 : TIDAK ADA perbedaan Quantity terjual dari customer male dengan customer female.\n",
    "- H1 : ADA perbedaan Quantity terjual dari customer male dengan customer female."
   ]
  },
  {
   "cell_type": "markdown",
   "metadata": {},
   "source": [
    "Jika nilai P-Value yang saya dapat kurang dari 0.05 maka H0 akan ditolak dan kesimpulan yang diambil adalah H1. Sebaliknya Jika P-Value lebih dari 0.05, maka H0 akan diterima sebagai kesimpulan. "
   ]
  },
  {
   "cell_type": "code",
   "execution_count": 16,
   "metadata": {},
   "outputs": [
    {
     "name": "stdout",
     "output_type": "stream",
     "text": [
      "U-Statistic: 85170.0, P-Value: 0.2966645199833884\n"
     ]
    }
   ],
   "source": [
    "# Saya import function mannwhiteyu untuk melakukan uji hipotesis.\n",
    "from scipy.stats import mannwhitneyu\n",
    "\n",
    "# Saya buat variable untuk male dan female terpisah, yang isinya adalah Quantity yang sesuai dengan nilai Column Gender (male/female)\n",
    "male_quantity = ms[ms[\"Gender\"] == \"Male\"][\"Quantity\"]\n",
    "female_quantity = ms[ms[\"Gender\"] == \"Female\"][\"Quantity\"]\n",
    "\n",
    "# gunakan function mannwhiteyu dengan argument yang berisikan 2 variable tadi.\n",
    "# Di sini alternative='to-sided' untuk mengevaluasi median dari kedua kelompok.\n",
    "stat, p = mannwhitneyu(male_quantity, female_quantity, alternative='two-sided')\n",
    "print(f\"U-Statistic: {stat}, P-Value: {p}\")"
   ]
  },
  {
   "cell_type": "markdown",
   "metadata": {},
   "source": [
    "### Kesimpulan\n",
    "**KESIMPULAN :**\n",
    "\n",
    "Karena nilai P-Value lebih dari 0.05, maka H0 diterima.\n",
    "\n",
    "TIDAK ADA Perbedaan Quantity terjual customer male dengan customer female."
   ]
  },
  {
   "cell_type": "markdown",
   "metadata": {},
   "source": [
    "## Visualisasi"
   ]
  },
  {
   "cell_type": "markdown",
   "metadata": {},
   "source": [
    "Berikut ini pertanyaan yang tadi saya jabarkan."
   ]
  },
  {
   "cell_type": "markdown",
   "metadata": {},
   "source": [
    "- Question 1 : Product apa yang terjual paling banyak?\n",
    "- Question 2 : Category apa yang terjual paling banyak ?\n",
    "- Question 3 : Category apa yang sering di Return customer?\n",
    "- Question 4 : Bagaimana tren penjualan dari waktu ke waktu?"
   ]
  },
  {
   "cell_type": "markdown",
   "metadata": {},
   "source": [
    "Saya ingin melihat penggambaran untuk masing-masing pertanyaan. Penggambaan ini akan memudahkan team pengembangan bisnis untuk membuat rencana pengembangan bisnis ini."
   ]
  },
  {
   "cell_type": "markdown",
   "metadata": {},
   "source": [
    "### Visualisasi1 (Bar Chart : Menampilkan product dengan jumlah penjualan tertinggi)"
   ]
  },
  {
   "cell_type": "code",
   "execution_count": 17,
   "metadata": {},
   "outputs": [
    {
     "data": {
      "application/vnd.plotly.v1+json": {
       "config": {
        "plotlyServerURL": "https://plot.ly"
       },
       "data": [
        {
         "alignmentgroup": "True",
         "hovertemplate": "Product Name=%{x}<br>Total Quantity=%{text}<extra></extra>",
         "legendgroup": "",
         "marker": {
          "color": "#636efa",
          "pattern": {
           "shape": ""
          }
         },
         "name": "",
         "offsetgroup": "",
         "orientation": "v",
         "showlegend": false,
         "text": [
          423,
          371,
          351,
          342,
          321
         ],
         "textposition": "outside",
         "type": "bar",
         "x": [
          "Monitor",
          "Keyboard",
          "Laptop",
          "Smartphone",
          "Mouse"
         ],
         "xaxis": "x",
         "y": [
          423,
          371,
          351,
          342,
          321
         ],
         "yaxis": "y"
        }
       ],
       "layout": {
        "autosize": false,
        "barmode": "relative",
        "height": 600,
        "legend": {
         "tracegroupgap": 0
        },
        "template": {
         "data": {
          "bar": [
           {
            "error_x": {
             "color": "#2a3f5f"
            },
            "error_y": {
             "color": "#2a3f5f"
            },
            "marker": {
             "line": {
              "color": "#E5ECF6",
              "width": 0.5
             },
             "pattern": {
              "fillmode": "overlay",
              "size": 10,
              "solidity": 0.2
             }
            },
            "type": "bar"
           }
          ],
          "barpolar": [
           {
            "marker": {
             "line": {
              "color": "#E5ECF6",
              "width": 0.5
             },
             "pattern": {
              "fillmode": "overlay",
              "size": 10,
              "solidity": 0.2
             }
            },
            "type": "barpolar"
           }
          ],
          "carpet": [
           {
            "aaxis": {
             "endlinecolor": "#2a3f5f",
             "gridcolor": "white",
             "linecolor": "white",
             "minorgridcolor": "white",
             "startlinecolor": "#2a3f5f"
            },
            "baxis": {
             "endlinecolor": "#2a3f5f",
             "gridcolor": "white",
             "linecolor": "white",
             "minorgridcolor": "white",
             "startlinecolor": "#2a3f5f"
            },
            "type": "carpet"
           }
          ],
          "choropleth": [
           {
            "colorbar": {
             "outlinewidth": 0,
             "ticks": ""
            },
            "type": "choropleth"
           }
          ],
          "contour": [
           {
            "colorbar": {
             "outlinewidth": 0,
             "ticks": ""
            },
            "colorscale": [
             [
              0,
              "#0d0887"
             ],
             [
              0.1111111111111111,
              "#46039f"
             ],
             [
              0.2222222222222222,
              "#7201a8"
             ],
             [
              0.3333333333333333,
              "#9c179e"
             ],
             [
              0.4444444444444444,
              "#bd3786"
             ],
             [
              0.5555555555555556,
              "#d8576b"
             ],
             [
              0.6666666666666666,
              "#ed7953"
             ],
             [
              0.7777777777777778,
              "#fb9f3a"
             ],
             [
              0.8888888888888888,
              "#fdca26"
             ],
             [
              1,
              "#f0f921"
             ]
            ],
            "type": "contour"
           }
          ],
          "contourcarpet": [
           {
            "colorbar": {
             "outlinewidth": 0,
             "ticks": ""
            },
            "type": "contourcarpet"
           }
          ],
          "heatmap": [
           {
            "colorbar": {
             "outlinewidth": 0,
             "ticks": ""
            },
            "colorscale": [
             [
              0,
              "#0d0887"
             ],
             [
              0.1111111111111111,
              "#46039f"
             ],
             [
              0.2222222222222222,
              "#7201a8"
             ],
             [
              0.3333333333333333,
              "#9c179e"
             ],
             [
              0.4444444444444444,
              "#bd3786"
             ],
             [
              0.5555555555555556,
              "#d8576b"
             ],
             [
              0.6666666666666666,
              "#ed7953"
             ],
             [
              0.7777777777777778,
              "#fb9f3a"
             ],
             [
              0.8888888888888888,
              "#fdca26"
             ],
             [
              1,
              "#f0f921"
             ]
            ],
            "type": "heatmap"
           }
          ],
          "heatmapgl": [
           {
            "colorbar": {
             "outlinewidth": 0,
             "ticks": ""
            },
            "colorscale": [
             [
              0,
              "#0d0887"
             ],
             [
              0.1111111111111111,
              "#46039f"
             ],
             [
              0.2222222222222222,
              "#7201a8"
             ],
             [
              0.3333333333333333,
              "#9c179e"
             ],
             [
              0.4444444444444444,
              "#bd3786"
             ],
             [
              0.5555555555555556,
              "#d8576b"
             ],
             [
              0.6666666666666666,
              "#ed7953"
             ],
             [
              0.7777777777777778,
              "#fb9f3a"
             ],
             [
              0.8888888888888888,
              "#fdca26"
             ],
             [
              1,
              "#f0f921"
             ]
            ],
            "type": "heatmapgl"
           }
          ],
          "histogram": [
           {
            "marker": {
             "pattern": {
              "fillmode": "overlay",
              "size": 10,
              "solidity": 0.2
             }
            },
            "type": "histogram"
           }
          ],
          "histogram2d": [
           {
            "colorbar": {
             "outlinewidth": 0,
             "ticks": ""
            },
            "colorscale": [
             [
              0,
              "#0d0887"
             ],
             [
              0.1111111111111111,
              "#46039f"
             ],
             [
              0.2222222222222222,
              "#7201a8"
             ],
             [
              0.3333333333333333,
              "#9c179e"
             ],
             [
              0.4444444444444444,
              "#bd3786"
             ],
             [
              0.5555555555555556,
              "#d8576b"
             ],
             [
              0.6666666666666666,
              "#ed7953"
             ],
             [
              0.7777777777777778,
              "#fb9f3a"
             ],
             [
              0.8888888888888888,
              "#fdca26"
             ],
             [
              1,
              "#f0f921"
             ]
            ],
            "type": "histogram2d"
           }
          ],
          "histogram2dcontour": [
           {
            "colorbar": {
             "outlinewidth": 0,
             "ticks": ""
            },
            "colorscale": [
             [
              0,
              "#0d0887"
             ],
             [
              0.1111111111111111,
              "#46039f"
             ],
             [
              0.2222222222222222,
              "#7201a8"
             ],
             [
              0.3333333333333333,
              "#9c179e"
             ],
             [
              0.4444444444444444,
              "#bd3786"
             ],
             [
              0.5555555555555556,
              "#d8576b"
             ],
             [
              0.6666666666666666,
              "#ed7953"
             ],
             [
              0.7777777777777778,
              "#fb9f3a"
             ],
             [
              0.8888888888888888,
              "#fdca26"
             ],
             [
              1,
              "#f0f921"
             ]
            ],
            "type": "histogram2dcontour"
           }
          ],
          "mesh3d": [
           {
            "colorbar": {
             "outlinewidth": 0,
             "ticks": ""
            },
            "type": "mesh3d"
           }
          ],
          "parcoords": [
           {
            "line": {
             "colorbar": {
              "outlinewidth": 0,
              "ticks": ""
             }
            },
            "type": "parcoords"
           }
          ],
          "pie": [
           {
            "automargin": true,
            "type": "pie"
           }
          ],
          "scatter": [
           {
            "fillpattern": {
             "fillmode": "overlay",
             "size": 10,
             "solidity": 0.2
            },
            "type": "scatter"
           }
          ],
          "scatter3d": [
           {
            "line": {
             "colorbar": {
              "outlinewidth": 0,
              "ticks": ""
             }
            },
            "marker": {
             "colorbar": {
              "outlinewidth": 0,
              "ticks": ""
             }
            },
            "type": "scatter3d"
           }
          ],
          "scattercarpet": [
           {
            "marker": {
             "colorbar": {
              "outlinewidth": 0,
              "ticks": ""
             }
            },
            "type": "scattercarpet"
           }
          ],
          "scattergeo": [
           {
            "marker": {
             "colorbar": {
              "outlinewidth": 0,
              "ticks": ""
             }
            },
            "type": "scattergeo"
           }
          ],
          "scattergl": [
           {
            "marker": {
             "colorbar": {
              "outlinewidth": 0,
              "ticks": ""
             }
            },
            "type": "scattergl"
           }
          ],
          "scattermapbox": [
           {
            "marker": {
             "colorbar": {
              "outlinewidth": 0,
              "ticks": ""
             }
            },
            "type": "scattermapbox"
           }
          ],
          "scatterpolar": [
           {
            "marker": {
             "colorbar": {
              "outlinewidth": 0,
              "ticks": ""
             }
            },
            "type": "scatterpolar"
           }
          ],
          "scatterpolargl": [
           {
            "marker": {
             "colorbar": {
              "outlinewidth": 0,
              "ticks": ""
             }
            },
            "type": "scatterpolargl"
           }
          ],
          "scatterternary": [
           {
            "marker": {
             "colorbar": {
              "outlinewidth": 0,
              "ticks": ""
             }
            },
            "type": "scatterternary"
           }
          ],
          "surface": [
           {
            "colorbar": {
             "outlinewidth": 0,
             "ticks": ""
            },
            "colorscale": [
             [
              0,
              "#0d0887"
             ],
             [
              0.1111111111111111,
              "#46039f"
             ],
             [
              0.2222222222222222,
              "#7201a8"
             ],
             [
              0.3333333333333333,
              "#9c179e"
             ],
             [
              0.4444444444444444,
              "#bd3786"
             ],
             [
              0.5555555555555556,
              "#d8576b"
             ],
             [
              0.6666666666666666,
              "#ed7953"
             ],
             [
              0.7777777777777778,
              "#fb9f3a"
             ],
             [
              0.8888888888888888,
              "#fdca26"
             ],
             [
              1,
              "#f0f921"
             ]
            ],
            "type": "surface"
           }
          ],
          "table": [
           {
            "cells": {
             "fill": {
              "color": "#EBF0F8"
             },
             "line": {
              "color": "white"
             }
            },
            "header": {
             "fill": {
              "color": "#C8D4E3"
             },
             "line": {
              "color": "white"
             }
            },
            "type": "table"
           }
          ]
         },
         "layout": {
          "annotationdefaults": {
           "arrowcolor": "#2a3f5f",
           "arrowhead": 0,
           "arrowwidth": 1
          },
          "autotypenumbers": "strict",
          "coloraxis": {
           "colorbar": {
            "outlinewidth": 0,
            "ticks": ""
           }
          },
          "colorscale": {
           "diverging": [
            [
             0,
             "#8e0152"
            ],
            [
             0.1,
             "#c51b7d"
            ],
            [
             0.2,
             "#de77ae"
            ],
            [
             0.3,
             "#f1b6da"
            ],
            [
             0.4,
             "#fde0ef"
            ],
            [
             0.5,
             "#f7f7f7"
            ],
            [
             0.6,
             "#e6f5d0"
            ],
            [
             0.7,
             "#b8e186"
            ],
            [
             0.8,
             "#7fbc41"
            ],
            [
             0.9,
             "#4d9221"
            ],
            [
             1,
             "#276419"
            ]
           ],
           "sequential": [
            [
             0,
             "#0d0887"
            ],
            [
             0.1111111111111111,
             "#46039f"
            ],
            [
             0.2222222222222222,
             "#7201a8"
            ],
            [
             0.3333333333333333,
             "#9c179e"
            ],
            [
             0.4444444444444444,
             "#bd3786"
            ],
            [
             0.5555555555555556,
             "#d8576b"
            ],
            [
             0.6666666666666666,
             "#ed7953"
            ],
            [
             0.7777777777777778,
             "#fb9f3a"
            ],
            [
             0.8888888888888888,
             "#fdca26"
            ],
            [
             1,
             "#f0f921"
            ]
           ],
           "sequentialminus": [
            [
             0,
             "#0d0887"
            ],
            [
             0.1111111111111111,
             "#46039f"
            ],
            [
             0.2222222222222222,
             "#7201a8"
            ],
            [
             0.3333333333333333,
             "#9c179e"
            ],
            [
             0.4444444444444444,
             "#bd3786"
            ],
            [
             0.5555555555555556,
             "#d8576b"
            ],
            [
             0.6666666666666666,
             "#ed7953"
            ],
            [
             0.7777777777777778,
             "#fb9f3a"
            ],
            [
             0.8888888888888888,
             "#fdca26"
            ],
            [
             1,
             "#f0f921"
            ]
           ]
          },
          "colorway": [
           "#636efa",
           "#EF553B",
           "#00cc96",
           "#ab63fa",
           "#FFA15A",
           "#19d3f3",
           "#FF6692",
           "#B6E880",
           "#FF97FF",
           "#FECB52"
          ],
          "font": {
           "color": "#2a3f5f"
          },
          "geo": {
           "bgcolor": "white",
           "lakecolor": "white",
           "landcolor": "#E5ECF6",
           "showlakes": true,
           "showland": true,
           "subunitcolor": "white"
          },
          "hoverlabel": {
           "align": "left"
          },
          "hovermode": "closest",
          "mapbox": {
           "style": "light"
          },
          "paper_bgcolor": "white",
          "plot_bgcolor": "#E5ECF6",
          "polar": {
           "angularaxis": {
            "gridcolor": "white",
            "linecolor": "white",
            "ticks": ""
           },
           "bgcolor": "#E5ECF6",
           "radialaxis": {
            "gridcolor": "white",
            "linecolor": "white",
            "ticks": ""
           }
          },
          "scene": {
           "xaxis": {
            "backgroundcolor": "#E5ECF6",
            "gridcolor": "white",
            "gridwidth": 2,
            "linecolor": "white",
            "showbackground": true,
            "ticks": "",
            "zerolinecolor": "white"
           },
           "yaxis": {
            "backgroundcolor": "#E5ECF6",
            "gridcolor": "white",
            "gridwidth": 2,
            "linecolor": "white",
            "showbackground": true,
            "ticks": "",
            "zerolinecolor": "white"
           },
           "zaxis": {
            "backgroundcolor": "#E5ECF6",
            "gridcolor": "white",
            "gridwidth": 2,
            "linecolor": "white",
            "showbackground": true,
            "ticks": "",
            "zerolinecolor": "white"
           }
          },
          "shapedefaults": {
           "line": {
            "color": "#2a3f5f"
           }
          },
          "ternary": {
           "aaxis": {
            "gridcolor": "white",
            "linecolor": "white",
            "ticks": ""
           },
           "baxis": {
            "gridcolor": "white",
            "linecolor": "white",
            "ticks": ""
           },
           "bgcolor": "#E5ECF6",
           "caxis": {
            "gridcolor": "white",
            "linecolor": "white",
            "ticks": ""
           }
          },
          "title": {
           "x": 0.05
          },
          "xaxis": {
           "automargin": true,
           "gridcolor": "white",
           "linecolor": "white",
           "ticks": "",
           "title": {
            "standoff": 15
           },
           "zerolinecolor": "white",
           "zerolinewidth": 2
          },
          "yaxis": {
           "automargin": true,
           "gridcolor": "white",
           "linecolor": "white",
           "ticks": "",
           "title": {
            "standoff": 15
           },
           "zerolinecolor": "white",
           "zerolinewidth": 2
          }
         }
        },
        "title": {
         "text": "Top 5 Products by Quantity Sold",
         "x": 0.5
        },
        "xaxis": {
         "anchor": "y",
         "domain": [
          0,
          1
         ],
         "title": {
          "text": "Product Name"
         }
        },
        "yaxis": {
         "anchor": "x",
         "domain": [
          0,
          1
         ],
         "title": {
          "text": "Total Quantity"
         }
        }
       }
      }
     },
     "metadata": {},
     "output_type": "display_data"
    }
   ],
   "source": [
    "# Di sini saya membuat variable top_product dan akan melakukan groupby untuk product name dengan quantity \n",
    "# yang di aggregasi dengan sum.\n",
    "top_products = ms.groupby(\"Product Name\")[\"Quantity\"].sum().reset_index()\n",
    "# Dari variable itu kemudian saya mensort (sort_values) nilai quantity (by=\"Quantity\") tersebut dari atas ke bawah (ascending=Flase)\n",
    "# dan ditampilkan 5 data teratas (head(5))\n",
    "top_products = top_products.sort_values(by=\"Quantity\", ascending=False).head(5)\n",
    "\n",
    "# saya buat variable fig yang nilainya menggunakan function .bar() dari class plotly.\n",
    "# isi argumentnya adalah attribute dari chart.\n",
    "# top_products, nilai variable yang saya buat tadi. Karena saya mau memunculkan datanya ke chart jadi saya panggil.\n",
    "# x dan y adalah sumbu chartnya.\n",
    "# title untuk judul di atas chart.\n",
    "# lables untuk menamai nilai pada chart. Jadi saat cursor dihover ke arah bar dari barchart, akan muncul nama dan nilainya.\n",
    "# text untuk memberi text di atas chartnya.\n",
    "fig = px.bar(top_products, x=\"Product Name\", y=\"Quantity\", \n",
    "             title=\"Top 5 Products by Quantity Sold\", \n",
    "             labels={\"Product Name\": \"Product Name\", \"Quantity\": \"Total Quantity\"},\n",
    "             text=\"Quantity\")\n",
    "# function update_layout untuk mengubah ukuran dan posisi. Di sini saya mengubah posisi dari title yang sudah dibuat.\n",
    "# dan saya lakukan pengubahan pada tinggi (height) karena tanpa pengubahan ini Quantity 423 akan terpotong.\n",
    "fig.update_layout(title_x = 0.5, autosize=False, height=600)\n",
    "# di bawah ini saya melakukan penempatan untuk text yang di dalam argument .bar().\n",
    "# di sini saya tempatkan di luar chart (outside)\n",
    "fig.update_traces(textposition=\"outside\")\n",
    "fig.show()"
   ]
  },
  {
   "cell_type": "markdown",
   "metadata": {},
   "source": [
    "#### Kesimpulan dan Insight\n",
    "**KESIMPULAN :**\n",
    "\n",
    "Di atas ini merupakan visualisasi hubungan data Product Name dengan Quantity. Di sini saya tampilkan 5 product teratas. Di dapatkan secara berurut Monitor, Keyboard, Laptop, Smartphone dan Mouse.daripada Laptop.\n",
    "\n",
    "Kita bisa lihat lebih banyak yang membeli Monitor. Hal ini saya rasa karena beberapa pengguna Laptop membeli Monitor tambahan untuk pekerjaan. Tetapi tidak semua pengguna Laptop membutuhkan Monitor tambahan, namun Monitor dibutuhkan pengguna PC. Sehingga jumlah pembeli Monitor lebih banyak. \n",
    " \n",
    "Begitu juga dengan Keyboard dan Laptop. Pembeli Keyboard belum tentu untuk PC, bisa untuk Laptop. Sedangkan pengguna Laptop belum tentu membeli Keyboard. Jadi pembelian Keyboard lebih besar.\n",
    "\n",
    "**INSIGHT :**\n",
    "\n",
    "Dari data ini bisa menjadi referensi untuk team pengembangan bisnis dalam memilih product apa yang perlu dijual."
   ]
  },
  {
   "cell_type": "markdown",
   "metadata": {},
   "source": [
    "### Visualisasi2 (Pie Chart : Distribusi penjualan berdasarkan Category)"
   ]
  },
  {
   "cell_type": "code",
   "execution_count": 18,
   "metadata": {},
   "outputs": [
    {
     "data": {
      "application/vnd.plotly.v1+json": {
       "config": {
        "plotlyServerURL": "https://plot.ly"
       },
       "data": [
        {
         "domain": {
          "x": [
           0,
           1
          ],
          "y": [
           0,
           1
          ]
         },
         "hovertemplate": "Product Category=%{label}<br>Total Quantity=%{value}<extra></extra>",
         "labels": [
          "Accessories",
          "Electronics",
          "Wearables"
         ],
         "legendgroup": "",
         "name": "",
         "showlegend": true,
         "type": "pie",
         "values": [
          996,
          1116,
          318
         ]
        }
       ],
       "layout": {
        "autosize": false,
        "height": 600,
        "legend": {
         "tracegroupgap": 0
        },
        "template": {
         "data": {
          "bar": [
           {
            "error_x": {
             "color": "#2a3f5f"
            },
            "error_y": {
             "color": "#2a3f5f"
            },
            "marker": {
             "line": {
              "color": "#E5ECF6",
              "width": 0.5
             },
             "pattern": {
              "fillmode": "overlay",
              "size": 10,
              "solidity": 0.2
             }
            },
            "type": "bar"
           }
          ],
          "barpolar": [
           {
            "marker": {
             "line": {
              "color": "#E5ECF6",
              "width": 0.5
             },
             "pattern": {
              "fillmode": "overlay",
              "size": 10,
              "solidity": 0.2
             }
            },
            "type": "barpolar"
           }
          ],
          "carpet": [
           {
            "aaxis": {
             "endlinecolor": "#2a3f5f",
             "gridcolor": "white",
             "linecolor": "white",
             "minorgridcolor": "white",
             "startlinecolor": "#2a3f5f"
            },
            "baxis": {
             "endlinecolor": "#2a3f5f",
             "gridcolor": "white",
             "linecolor": "white",
             "minorgridcolor": "white",
             "startlinecolor": "#2a3f5f"
            },
            "type": "carpet"
           }
          ],
          "choropleth": [
           {
            "colorbar": {
             "outlinewidth": 0,
             "ticks": ""
            },
            "type": "choropleth"
           }
          ],
          "contour": [
           {
            "colorbar": {
             "outlinewidth": 0,
             "ticks": ""
            },
            "colorscale": [
             [
              0,
              "#0d0887"
             ],
             [
              0.1111111111111111,
              "#46039f"
             ],
             [
              0.2222222222222222,
              "#7201a8"
             ],
             [
              0.3333333333333333,
              "#9c179e"
             ],
             [
              0.4444444444444444,
              "#bd3786"
             ],
             [
              0.5555555555555556,
              "#d8576b"
             ],
             [
              0.6666666666666666,
              "#ed7953"
             ],
             [
              0.7777777777777778,
              "#fb9f3a"
             ],
             [
              0.8888888888888888,
              "#fdca26"
             ],
             [
              1,
              "#f0f921"
             ]
            ],
            "type": "contour"
           }
          ],
          "contourcarpet": [
           {
            "colorbar": {
             "outlinewidth": 0,
             "ticks": ""
            },
            "type": "contourcarpet"
           }
          ],
          "heatmap": [
           {
            "colorbar": {
             "outlinewidth": 0,
             "ticks": ""
            },
            "colorscale": [
             [
              0,
              "#0d0887"
             ],
             [
              0.1111111111111111,
              "#46039f"
             ],
             [
              0.2222222222222222,
              "#7201a8"
             ],
             [
              0.3333333333333333,
              "#9c179e"
             ],
             [
              0.4444444444444444,
              "#bd3786"
             ],
             [
              0.5555555555555556,
              "#d8576b"
             ],
             [
              0.6666666666666666,
              "#ed7953"
             ],
             [
              0.7777777777777778,
              "#fb9f3a"
             ],
             [
              0.8888888888888888,
              "#fdca26"
             ],
             [
              1,
              "#f0f921"
             ]
            ],
            "type": "heatmap"
           }
          ],
          "heatmapgl": [
           {
            "colorbar": {
             "outlinewidth": 0,
             "ticks": ""
            },
            "colorscale": [
             [
              0,
              "#0d0887"
             ],
             [
              0.1111111111111111,
              "#46039f"
             ],
             [
              0.2222222222222222,
              "#7201a8"
             ],
             [
              0.3333333333333333,
              "#9c179e"
             ],
             [
              0.4444444444444444,
              "#bd3786"
             ],
             [
              0.5555555555555556,
              "#d8576b"
             ],
             [
              0.6666666666666666,
              "#ed7953"
             ],
             [
              0.7777777777777778,
              "#fb9f3a"
             ],
             [
              0.8888888888888888,
              "#fdca26"
             ],
             [
              1,
              "#f0f921"
             ]
            ],
            "type": "heatmapgl"
           }
          ],
          "histogram": [
           {
            "marker": {
             "pattern": {
              "fillmode": "overlay",
              "size": 10,
              "solidity": 0.2
             }
            },
            "type": "histogram"
           }
          ],
          "histogram2d": [
           {
            "colorbar": {
             "outlinewidth": 0,
             "ticks": ""
            },
            "colorscale": [
             [
              0,
              "#0d0887"
             ],
             [
              0.1111111111111111,
              "#46039f"
             ],
             [
              0.2222222222222222,
              "#7201a8"
             ],
             [
              0.3333333333333333,
              "#9c179e"
             ],
             [
              0.4444444444444444,
              "#bd3786"
             ],
             [
              0.5555555555555556,
              "#d8576b"
             ],
             [
              0.6666666666666666,
              "#ed7953"
             ],
             [
              0.7777777777777778,
              "#fb9f3a"
             ],
             [
              0.8888888888888888,
              "#fdca26"
             ],
             [
              1,
              "#f0f921"
             ]
            ],
            "type": "histogram2d"
           }
          ],
          "histogram2dcontour": [
           {
            "colorbar": {
             "outlinewidth": 0,
             "ticks": ""
            },
            "colorscale": [
             [
              0,
              "#0d0887"
             ],
             [
              0.1111111111111111,
              "#46039f"
             ],
             [
              0.2222222222222222,
              "#7201a8"
             ],
             [
              0.3333333333333333,
              "#9c179e"
             ],
             [
              0.4444444444444444,
              "#bd3786"
             ],
             [
              0.5555555555555556,
              "#d8576b"
             ],
             [
              0.6666666666666666,
              "#ed7953"
             ],
             [
              0.7777777777777778,
              "#fb9f3a"
             ],
             [
              0.8888888888888888,
              "#fdca26"
             ],
             [
              1,
              "#f0f921"
             ]
            ],
            "type": "histogram2dcontour"
           }
          ],
          "mesh3d": [
           {
            "colorbar": {
             "outlinewidth": 0,
             "ticks": ""
            },
            "type": "mesh3d"
           }
          ],
          "parcoords": [
           {
            "line": {
             "colorbar": {
              "outlinewidth": 0,
              "ticks": ""
             }
            },
            "type": "parcoords"
           }
          ],
          "pie": [
           {
            "automargin": true,
            "type": "pie"
           }
          ],
          "scatter": [
           {
            "fillpattern": {
             "fillmode": "overlay",
             "size": 10,
             "solidity": 0.2
            },
            "type": "scatter"
           }
          ],
          "scatter3d": [
           {
            "line": {
             "colorbar": {
              "outlinewidth": 0,
              "ticks": ""
             }
            },
            "marker": {
             "colorbar": {
              "outlinewidth": 0,
              "ticks": ""
             }
            },
            "type": "scatter3d"
           }
          ],
          "scattercarpet": [
           {
            "marker": {
             "colorbar": {
              "outlinewidth": 0,
              "ticks": ""
             }
            },
            "type": "scattercarpet"
           }
          ],
          "scattergeo": [
           {
            "marker": {
             "colorbar": {
              "outlinewidth": 0,
              "ticks": ""
             }
            },
            "type": "scattergeo"
           }
          ],
          "scattergl": [
           {
            "marker": {
             "colorbar": {
              "outlinewidth": 0,
              "ticks": ""
             }
            },
            "type": "scattergl"
           }
          ],
          "scattermapbox": [
           {
            "marker": {
             "colorbar": {
              "outlinewidth": 0,
              "ticks": ""
             }
            },
            "type": "scattermapbox"
           }
          ],
          "scatterpolar": [
           {
            "marker": {
             "colorbar": {
              "outlinewidth": 0,
              "ticks": ""
             }
            },
            "type": "scatterpolar"
           }
          ],
          "scatterpolargl": [
           {
            "marker": {
             "colorbar": {
              "outlinewidth": 0,
              "ticks": ""
             }
            },
            "type": "scatterpolargl"
           }
          ],
          "scatterternary": [
           {
            "marker": {
             "colorbar": {
              "outlinewidth": 0,
              "ticks": ""
             }
            },
            "type": "scatterternary"
           }
          ],
          "surface": [
           {
            "colorbar": {
             "outlinewidth": 0,
             "ticks": ""
            },
            "colorscale": [
             [
              0,
              "#0d0887"
             ],
             [
              0.1111111111111111,
              "#46039f"
             ],
             [
              0.2222222222222222,
              "#7201a8"
             ],
             [
              0.3333333333333333,
              "#9c179e"
             ],
             [
              0.4444444444444444,
              "#bd3786"
             ],
             [
              0.5555555555555556,
              "#d8576b"
             ],
             [
              0.6666666666666666,
              "#ed7953"
             ],
             [
              0.7777777777777778,
              "#fb9f3a"
             ],
             [
              0.8888888888888888,
              "#fdca26"
             ],
             [
              1,
              "#f0f921"
             ]
            ],
            "type": "surface"
           }
          ],
          "table": [
           {
            "cells": {
             "fill": {
              "color": "#EBF0F8"
             },
             "line": {
              "color": "white"
             }
            },
            "header": {
             "fill": {
              "color": "#C8D4E3"
             },
             "line": {
              "color": "white"
             }
            },
            "type": "table"
           }
          ]
         },
         "layout": {
          "annotationdefaults": {
           "arrowcolor": "#2a3f5f",
           "arrowhead": 0,
           "arrowwidth": 1
          },
          "autotypenumbers": "strict",
          "coloraxis": {
           "colorbar": {
            "outlinewidth": 0,
            "ticks": ""
           }
          },
          "colorscale": {
           "diverging": [
            [
             0,
             "#8e0152"
            ],
            [
             0.1,
             "#c51b7d"
            ],
            [
             0.2,
             "#de77ae"
            ],
            [
             0.3,
             "#f1b6da"
            ],
            [
             0.4,
             "#fde0ef"
            ],
            [
             0.5,
             "#f7f7f7"
            ],
            [
             0.6,
             "#e6f5d0"
            ],
            [
             0.7,
             "#b8e186"
            ],
            [
             0.8,
             "#7fbc41"
            ],
            [
             0.9,
             "#4d9221"
            ],
            [
             1,
             "#276419"
            ]
           ],
           "sequential": [
            [
             0,
             "#0d0887"
            ],
            [
             0.1111111111111111,
             "#46039f"
            ],
            [
             0.2222222222222222,
             "#7201a8"
            ],
            [
             0.3333333333333333,
             "#9c179e"
            ],
            [
             0.4444444444444444,
             "#bd3786"
            ],
            [
             0.5555555555555556,
             "#d8576b"
            ],
            [
             0.6666666666666666,
             "#ed7953"
            ],
            [
             0.7777777777777778,
             "#fb9f3a"
            ],
            [
             0.8888888888888888,
             "#fdca26"
            ],
            [
             1,
             "#f0f921"
            ]
           ],
           "sequentialminus": [
            [
             0,
             "#0d0887"
            ],
            [
             0.1111111111111111,
             "#46039f"
            ],
            [
             0.2222222222222222,
             "#7201a8"
            ],
            [
             0.3333333333333333,
             "#9c179e"
            ],
            [
             0.4444444444444444,
             "#bd3786"
            ],
            [
             0.5555555555555556,
             "#d8576b"
            ],
            [
             0.6666666666666666,
             "#ed7953"
            ],
            [
             0.7777777777777778,
             "#fb9f3a"
            ],
            [
             0.8888888888888888,
             "#fdca26"
            ],
            [
             1,
             "#f0f921"
            ]
           ]
          },
          "colorway": [
           "#636efa",
           "#EF553B",
           "#00cc96",
           "#ab63fa",
           "#FFA15A",
           "#19d3f3",
           "#FF6692",
           "#B6E880",
           "#FF97FF",
           "#FECB52"
          ],
          "font": {
           "color": "#2a3f5f"
          },
          "geo": {
           "bgcolor": "white",
           "lakecolor": "white",
           "landcolor": "#E5ECF6",
           "showlakes": true,
           "showland": true,
           "subunitcolor": "white"
          },
          "hoverlabel": {
           "align": "left"
          },
          "hovermode": "closest",
          "mapbox": {
           "style": "light"
          },
          "paper_bgcolor": "white",
          "plot_bgcolor": "#E5ECF6",
          "polar": {
           "angularaxis": {
            "gridcolor": "white",
            "linecolor": "white",
            "ticks": ""
           },
           "bgcolor": "#E5ECF6",
           "radialaxis": {
            "gridcolor": "white",
            "linecolor": "white",
            "ticks": ""
           }
          },
          "scene": {
           "xaxis": {
            "backgroundcolor": "#E5ECF6",
            "gridcolor": "white",
            "gridwidth": 2,
            "linecolor": "white",
            "showbackground": true,
            "ticks": "",
            "zerolinecolor": "white"
           },
           "yaxis": {
            "backgroundcolor": "#E5ECF6",
            "gridcolor": "white",
            "gridwidth": 2,
            "linecolor": "white",
            "showbackground": true,
            "ticks": "",
            "zerolinecolor": "white"
           },
           "zaxis": {
            "backgroundcolor": "#E5ECF6",
            "gridcolor": "white",
            "gridwidth": 2,
            "linecolor": "white",
            "showbackground": true,
            "ticks": "",
            "zerolinecolor": "white"
           }
          },
          "shapedefaults": {
           "line": {
            "color": "#2a3f5f"
           }
          },
          "ternary": {
           "aaxis": {
            "gridcolor": "white",
            "linecolor": "white",
            "ticks": ""
           },
           "baxis": {
            "gridcolor": "white",
            "linecolor": "white",
            "ticks": ""
           },
           "bgcolor": "#E5ECF6",
           "caxis": {
            "gridcolor": "white",
            "linecolor": "white",
            "ticks": ""
           }
          },
          "title": {
           "x": 0.05
          },
          "xaxis": {
           "automargin": true,
           "gridcolor": "white",
           "linecolor": "white",
           "ticks": "",
           "title": {
            "standoff": 15
           },
           "zerolinecolor": "white",
           "zerolinewidth": 2
          },
          "yaxis": {
           "automargin": true,
           "gridcolor": "white",
           "linecolor": "white",
           "ticks": "",
           "title": {
            "standoff": 15
           },
           "zerolinecolor": "white",
           "zerolinewidth": 2
          }
         }
        },
        "title": {
         "text": "Sales Distribution by Category",
         "x": 0.5
        }
       }
      }
     },
     "metadata": {},
     "output_type": "display_data"
    }
   ],
   "source": [
    "# Penjelasan untuk semua code visualisi akan mirip. Jadi saya persingkat.\n",
    "# Grouby dan sum.\n",
    "category_sales = ms.groupby(\"Category\")[\"Quantity\"].sum().reset_index()\n",
    "\n",
    "# Masukkan attribute chartnya. Di sini pakai Pie Chart.\n",
    "fig = px.pie(category_sales, names=\"Category\", values=\"Quantity\", \n",
    "             title=\"Sales Distribution by Category\", \n",
    "             labels={\"Category\": \"Product Category\", \"Quantity\": \"Total Quantity\"})\n",
    "# Posisikan title dan tambah tingginya. Walaupun tidak ada nilai yang terpotong, tinggi ditambah agar bentuk semua Chart sama.\n",
    "fig.update_layout(title_x = 0.5, autosize=False, height=600)\n",
    "fig.show()"
   ]
  },
  {
   "cell_type": "markdown",
   "metadata": {},
   "source": [
    "#### Kesimpulan dan Insight\n",
    "**KESIMPULAN :**\n",
    "\n",
    "Di atas ini Pie Chart untuk jumlah sales yang dibagi berdasarkan category. Kita bisa lihat masing-masing urutannya dari Electronics (45.9%), Accessories (41%) dan Wearables(13.1%).\n",
    "\n",
    "Untuk kesimpulan chart ini sebenarnya kita bisa kira-kira dari Chart sebelumnya. Top 5 Product yang terjual Monitor (Electronics), Keyboard (Accessories), Laptop (Electronics), SmartPhone (Electronics), Mouse (Accessories). Yang tidak ada pada top 5 adalah Smartwatch (Wearables) dan Headphones (Accesories). Dari sini kita bisa mengetahui top 5 product di dominasi Electronics dan Accessories. \n",
    "\n",
    "Tapi untuk lebih jelas saya buat chart ini agar memisahkan dari Top 5 Product Chart. Karena saya rasa kalau digabungkan akan terlalu complex dan membuat pembaca chart kebingungan.\n",
    "\n",
    "**INSIGHT :**\n",
    "\n",
    "Walaupun Category Wearables terlihat sedikit. Hal ini disebabkan oleh sedikitnya product yang dikategorikan sebagai Wearables. Jika kita bandingkan terdapat 3 Electronics, 3 Accessories dan 1 Wearables. Seperti yang saya sebut untuk insight di 'Visualisasi2' bahwa jumlah sales tiap product tidak terlalu berbeda, yaitu sekitar 304 sampai 423. Untuk Smartwatch sendiri yang satu-satunya Wearables memiliki total Quantity terjual 318. Jadi saya rasa nilai yang di dapat untuk Wearables (13.1%) tidak menandakan sales Wearables sedikit. Mungkin untuk perusahaan **dapat menambahkan 2 product yang bisa dikategorikan sebagai Wearables agar bisa dibandingkan dengan Category lain**."
   ]
  },
  {
   "cell_type": "markdown",
   "metadata": {},
   "source": [
    "### Visualisasi3 (Bar Chart : Category product yang Sering direturn)"
   ]
  },
  {
   "cell_type": "code",
   "execution_count": 19,
   "metadata": {},
   "outputs": [
    {
     "data": {
      "application/vnd.plotly.v1+json": {
       "config": {
        "plotlyServerURL": "https://plot.ly"
       },
       "data": [
        {
         "alignmentgroup": "True",
         "hovertemplate": "Product Category=%{x}<br>Number of Returns=%{text}<extra></extra>",
         "legendgroup": "",
         "marker": {
          "color": "#636efa",
          "pattern": {
           "shape": ""
          }
         },
         "name": "",
         "offsetgroup": "",
         "orientation": "v",
         "showlegend": false,
         "text": [
          122,
          103,
          33
         ],
         "textposition": "outside",
         "type": "bar",
         "x": [
          "Electronics",
          "Accessories",
          "Wearables"
         ],
         "xaxis": "x",
         "y": [
          122,
          103,
          33
         ],
         "yaxis": "y"
        }
       ],
       "layout": {
        "autosize": false,
        "barmode": "relative",
        "height": 600,
        "legend": {
         "tracegroupgap": 0
        },
        "template": {
         "data": {
          "bar": [
           {
            "error_x": {
             "color": "#2a3f5f"
            },
            "error_y": {
             "color": "#2a3f5f"
            },
            "marker": {
             "line": {
              "color": "#E5ECF6",
              "width": 0.5
             },
             "pattern": {
              "fillmode": "overlay",
              "size": 10,
              "solidity": 0.2
             }
            },
            "type": "bar"
           }
          ],
          "barpolar": [
           {
            "marker": {
             "line": {
              "color": "#E5ECF6",
              "width": 0.5
             },
             "pattern": {
              "fillmode": "overlay",
              "size": 10,
              "solidity": 0.2
             }
            },
            "type": "barpolar"
           }
          ],
          "carpet": [
           {
            "aaxis": {
             "endlinecolor": "#2a3f5f",
             "gridcolor": "white",
             "linecolor": "white",
             "minorgridcolor": "white",
             "startlinecolor": "#2a3f5f"
            },
            "baxis": {
             "endlinecolor": "#2a3f5f",
             "gridcolor": "white",
             "linecolor": "white",
             "minorgridcolor": "white",
             "startlinecolor": "#2a3f5f"
            },
            "type": "carpet"
           }
          ],
          "choropleth": [
           {
            "colorbar": {
             "outlinewidth": 0,
             "ticks": ""
            },
            "type": "choropleth"
           }
          ],
          "contour": [
           {
            "colorbar": {
             "outlinewidth": 0,
             "ticks": ""
            },
            "colorscale": [
             [
              0,
              "#0d0887"
             ],
             [
              0.1111111111111111,
              "#46039f"
             ],
             [
              0.2222222222222222,
              "#7201a8"
             ],
             [
              0.3333333333333333,
              "#9c179e"
             ],
             [
              0.4444444444444444,
              "#bd3786"
             ],
             [
              0.5555555555555556,
              "#d8576b"
             ],
             [
              0.6666666666666666,
              "#ed7953"
             ],
             [
              0.7777777777777778,
              "#fb9f3a"
             ],
             [
              0.8888888888888888,
              "#fdca26"
             ],
             [
              1,
              "#f0f921"
             ]
            ],
            "type": "contour"
           }
          ],
          "contourcarpet": [
           {
            "colorbar": {
             "outlinewidth": 0,
             "ticks": ""
            },
            "type": "contourcarpet"
           }
          ],
          "heatmap": [
           {
            "colorbar": {
             "outlinewidth": 0,
             "ticks": ""
            },
            "colorscale": [
             [
              0,
              "#0d0887"
             ],
             [
              0.1111111111111111,
              "#46039f"
             ],
             [
              0.2222222222222222,
              "#7201a8"
             ],
             [
              0.3333333333333333,
              "#9c179e"
             ],
             [
              0.4444444444444444,
              "#bd3786"
             ],
             [
              0.5555555555555556,
              "#d8576b"
             ],
             [
              0.6666666666666666,
              "#ed7953"
             ],
             [
              0.7777777777777778,
              "#fb9f3a"
             ],
             [
              0.8888888888888888,
              "#fdca26"
             ],
             [
              1,
              "#f0f921"
             ]
            ],
            "type": "heatmap"
           }
          ],
          "heatmapgl": [
           {
            "colorbar": {
             "outlinewidth": 0,
             "ticks": ""
            },
            "colorscale": [
             [
              0,
              "#0d0887"
             ],
             [
              0.1111111111111111,
              "#46039f"
             ],
             [
              0.2222222222222222,
              "#7201a8"
             ],
             [
              0.3333333333333333,
              "#9c179e"
             ],
             [
              0.4444444444444444,
              "#bd3786"
             ],
             [
              0.5555555555555556,
              "#d8576b"
             ],
             [
              0.6666666666666666,
              "#ed7953"
             ],
             [
              0.7777777777777778,
              "#fb9f3a"
             ],
             [
              0.8888888888888888,
              "#fdca26"
             ],
             [
              1,
              "#f0f921"
             ]
            ],
            "type": "heatmapgl"
           }
          ],
          "histogram": [
           {
            "marker": {
             "pattern": {
              "fillmode": "overlay",
              "size": 10,
              "solidity": 0.2
             }
            },
            "type": "histogram"
           }
          ],
          "histogram2d": [
           {
            "colorbar": {
             "outlinewidth": 0,
             "ticks": ""
            },
            "colorscale": [
             [
              0,
              "#0d0887"
             ],
             [
              0.1111111111111111,
              "#46039f"
             ],
             [
              0.2222222222222222,
              "#7201a8"
             ],
             [
              0.3333333333333333,
              "#9c179e"
             ],
             [
              0.4444444444444444,
              "#bd3786"
             ],
             [
              0.5555555555555556,
              "#d8576b"
             ],
             [
              0.6666666666666666,
              "#ed7953"
             ],
             [
              0.7777777777777778,
              "#fb9f3a"
             ],
             [
              0.8888888888888888,
              "#fdca26"
             ],
             [
              1,
              "#f0f921"
             ]
            ],
            "type": "histogram2d"
           }
          ],
          "histogram2dcontour": [
           {
            "colorbar": {
             "outlinewidth": 0,
             "ticks": ""
            },
            "colorscale": [
             [
              0,
              "#0d0887"
             ],
             [
              0.1111111111111111,
              "#46039f"
             ],
             [
              0.2222222222222222,
              "#7201a8"
             ],
             [
              0.3333333333333333,
              "#9c179e"
             ],
             [
              0.4444444444444444,
              "#bd3786"
             ],
             [
              0.5555555555555556,
              "#d8576b"
             ],
             [
              0.6666666666666666,
              "#ed7953"
             ],
             [
              0.7777777777777778,
              "#fb9f3a"
             ],
             [
              0.8888888888888888,
              "#fdca26"
             ],
             [
              1,
              "#f0f921"
             ]
            ],
            "type": "histogram2dcontour"
           }
          ],
          "mesh3d": [
           {
            "colorbar": {
             "outlinewidth": 0,
             "ticks": ""
            },
            "type": "mesh3d"
           }
          ],
          "parcoords": [
           {
            "line": {
             "colorbar": {
              "outlinewidth": 0,
              "ticks": ""
             }
            },
            "type": "parcoords"
           }
          ],
          "pie": [
           {
            "automargin": true,
            "type": "pie"
           }
          ],
          "scatter": [
           {
            "fillpattern": {
             "fillmode": "overlay",
             "size": 10,
             "solidity": 0.2
            },
            "type": "scatter"
           }
          ],
          "scatter3d": [
           {
            "line": {
             "colorbar": {
              "outlinewidth": 0,
              "ticks": ""
             }
            },
            "marker": {
             "colorbar": {
              "outlinewidth": 0,
              "ticks": ""
             }
            },
            "type": "scatter3d"
           }
          ],
          "scattercarpet": [
           {
            "marker": {
             "colorbar": {
              "outlinewidth": 0,
              "ticks": ""
             }
            },
            "type": "scattercarpet"
           }
          ],
          "scattergeo": [
           {
            "marker": {
             "colorbar": {
              "outlinewidth": 0,
              "ticks": ""
             }
            },
            "type": "scattergeo"
           }
          ],
          "scattergl": [
           {
            "marker": {
             "colorbar": {
              "outlinewidth": 0,
              "ticks": ""
             }
            },
            "type": "scattergl"
           }
          ],
          "scattermapbox": [
           {
            "marker": {
             "colorbar": {
              "outlinewidth": 0,
              "ticks": ""
             }
            },
            "type": "scattermapbox"
           }
          ],
          "scatterpolar": [
           {
            "marker": {
             "colorbar": {
              "outlinewidth": 0,
              "ticks": ""
             }
            },
            "type": "scatterpolar"
           }
          ],
          "scatterpolargl": [
           {
            "marker": {
             "colorbar": {
              "outlinewidth": 0,
              "ticks": ""
             }
            },
            "type": "scatterpolargl"
           }
          ],
          "scatterternary": [
           {
            "marker": {
             "colorbar": {
              "outlinewidth": 0,
              "ticks": ""
             }
            },
            "type": "scatterternary"
           }
          ],
          "surface": [
           {
            "colorbar": {
             "outlinewidth": 0,
             "ticks": ""
            },
            "colorscale": [
             [
              0,
              "#0d0887"
             ],
             [
              0.1111111111111111,
              "#46039f"
             ],
             [
              0.2222222222222222,
              "#7201a8"
             ],
             [
              0.3333333333333333,
              "#9c179e"
             ],
             [
              0.4444444444444444,
              "#bd3786"
             ],
             [
              0.5555555555555556,
              "#d8576b"
             ],
             [
              0.6666666666666666,
              "#ed7953"
             ],
             [
              0.7777777777777778,
              "#fb9f3a"
             ],
             [
              0.8888888888888888,
              "#fdca26"
             ],
             [
              1,
              "#f0f921"
             ]
            ],
            "type": "surface"
           }
          ],
          "table": [
           {
            "cells": {
             "fill": {
              "color": "#EBF0F8"
             },
             "line": {
              "color": "white"
             }
            },
            "header": {
             "fill": {
              "color": "#C8D4E3"
             },
             "line": {
              "color": "white"
             }
            },
            "type": "table"
           }
          ]
         },
         "layout": {
          "annotationdefaults": {
           "arrowcolor": "#2a3f5f",
           "arrowhead": 0,
           "arrowwidth": 1
          },
          "autotypenumbers": "strict",
          "coloraxis": {
           "colorbar": {
            "outlinewidth": 0,
            "ticks": ""
           }
          },
          "colorscale": {
           "diverging": [
            [
             0,
             "#8e0152"
            ],
            [
             0.1,
             "#c51b7d"
            ],
            [
             0.2,
             "#de77ae"
            ],
            [
             0.3,
             "#f1b6da"
            ],
            [
             0.4,
             "#fde0ef"
            ],
            [
             0.5,
             "#f7f7f7"
            ],
            [
             0.6,
             "#e6f5d0"
            ],
            [
             0.7,
             "#b8e186"
            ],
            [
             0.8,
             "#7fbc41"
            ],
            [
             0.9,
             "#4d9221"
            ],
            [
             1,
             "#276419"
            ]
           ],
           "sequential": [
            [
             0,
             "#0d0887"
            ],
            [
             0.1111111111111111,
             "#46039f"
            ],
            [
             0.2222222222222222,
             "#7201a8"
            ],
            [
             0.3333333333333333,
             "#9c179e"
            ],
            [
             0.4444444444444444,
             "#bd3786"
            ],
            [
             0.5555555555555556,
             "#d8576b"
            ],
            [
             0.6666666666666666,
             "#ed7953"
            ],
            [
             0.7777777777777778,
             "#fb9f3a"
            ],
            [
             0.8888888888888888,
             "#fdca26"
            ],
            [
             1,
             "#f0f921"
            ]
           ],
           "sequentialminus": [
            [
             0,
             "#0d0887"
            ],
            [
             0.1111111111111111,
             "#46039f"
            ],
            [
             0.2222222222222222,
             "#7201a8"
            ],
            [
             0.3333333333333333,
             "#9c179e"
            ],
            [
             0.4444444444444444,
             "#bd3786"
            ],
            [
             0.5555555555555556,
             "#d8576b"
            ],
            [
             0.6666666666666666,
             "#ed7953"
            ],
            [
             0.7777777777777778,
             "#fb9f3a"
            ],
            [
             0.8888888888888888,
             "#fdca26"
            ],
            [
             1,
             "#f0f921"
            ]
           ]
          },
          "colorway": [
           "#636efa",
           "#EF553B",
           "#00cc96",
           "#ab63fa",
           "#FFA15A",
           "#19d3f3",
           "#FF6692",
           "#B6E880",
           "#FF97FF",
           "#FECB52"
          ],
          "font": {
           "color": "#2a3f5f"
          },
          "geo": {
           "bgcolor": "white",
           "lakecolor": "white",
           "landcolor": "#E5ECF6",
           "showlakes": true,
           "showland": true,
           "subunitcolor": "white"
          },
          "hoverlabel": {
           "align": "left"
          },
          "hovermode": "closest",
          "mapbox": {
           "style": "light"
          },
          "paper_bgcolor": "white",
          "plot_bgcolor": "#E5ECF6",
          "polar": {
           "angularaxis": {
            "gridcolor": "white",
            "linecolor": "white",
            "ticks": ""
           },
           "bgcolor": "#E5ECF6",
           "radialaxis": {
            "gridcolor": "white",
            "linecolor": "white",
            "ticks": ""
           }
          },
          "scene": {
           "xaxis": {
            "backgroundcolor": "#E5ECF6",
            "gridcolor": "white",
            "gridwidth": 2,
            "linecolor": "white",
            "showbackground": true,
            "ticks": "",
            "zerolinecolor": "white"
           },
           "yaxis": {
            "backgroundcolor": "#E5ECF6",
            "gridcolor": "white",
            "gridwidth": 2,
            "linecolor": "white",
            "showbackground": true,
            "ticks": "",
            "zerolinecolor": "white"
           },
           "zaxis": {
            "backgroundcolor": "#E5ECF6",
            "gridcolor": "white",
            "gridwidth": 2,
            "linecolor": "white",
            "showbackground": true,
            "ticks": "",
            "zerolinecolor": "white"
           }
          },
          "shapedefaults": {
           "line": {
            "color": "#2a3f5f"
           }
          },
          "ternary": {
           "aaxis": {
            "gridcolor": "white",
            "linecolor": "white",
            "ticks": ""
           },
           "baxis": {
            "gridcolor": "white",
            "linecolor": "white",
            "ticks": ""
           },
           "bgcolor": "#E5ECF6",
           "caxis": {
            "gridcolor": "white",
            "linecolor": "white",
            "ticks": ""
           }
          },
          "title": {
           "x": 0.05
          },
          "xaxis": {
           "automargin": true,
           "gridcolor": "white",
           "linecolor": "white",
           "ticks": "",
           "title": {
            "standoff": 15
           },
           "zerolinecolor": "white",
           "zerolinewidth": 2
          },
          "yaxis": {
           "automargin": true,
           "gridcolor": "white",
           "linecolor": "white",
           "ticks": "",
           "title": {
            "standoff": 15
           },
           "zerolinecolor": "white",
           "zerolinewidth": 2
          }
         }
        },
        "title": {
         "text": "Top Returned Categories",
         "x": 0.5
        },
        "xaxis": {
         "anchor": "y",
         "domain": [
          0,
          1
         ],
         "title": {
          "text": "Product Category"
         }
        },
        "yaxis": {
         "anchor": "x",
         "domain": [
          0,
          1
         ],
         "title": {
          "text": "Number of Returns"
         }
        }
       }
      }
     },
     "metadata": {},
     "output_type": "display_data"
    }
   ],
   "source": [
    "# dapatkan data yang Shipping Satus = Returned.\n",
    "returned_data = ms[ms[\"Shipping Status\"] == \"Returned\"]\n",
    "# groupby Category dan sort berdasarkan count return.\n",
    "returned_categories = returned_data.groupby(\"Category\").size().reset_index(name=\"Return Count\").sort_values(by=\"Return Count\", ascending=False)\n",
    "\n",
    "# masukkan attribute chart. saya pakai bar chart.\n",
    "fig = px.bar(returned_categories, x=\"Category\", y=\"Return Count\", \n",
    "             title=\"Top Returned Categories\", \n",
    "             labels={\"Category\": \"Product Category\", \"Return Count\": \"Number of Returns\"},\n",
    "             text=\"Return Count\")\n",
    "\n",
    "# posisi title dan tinggi.\n",
    "fig.update_layout(title_x = 0.5, autosize=False, height=600)\n",
    "# penempatan text di luar.\n",
    "fig.update_traces(textposition=\"outside\")\n",
    "fig.show()"
   ]
  },
  {
   "cell_type": "markdown",
   "metadata": {},
   "source": [
    "#### Kesimpulan dan Insight\n",
    "**KESIMPULAN :**\n",
    "\n",
    "Di atas ini adalah jumlah transaksi yang dikembalikan untuk Category tertentu. Didapatkan Electronics returned sebanyak 122, Accessories sebanyak 103, dan Wearables sebaganyak 33. Pada Kesimpulan & Insight Visualisasi 1 dan 2 saya sudah menyebutkan bahwa Wearables hanya terdapat 1 product dibanding Electronics yang terdapat 3 product. Karena perbandingan jumlah product pada kategori ini 1:3 dan jumlah product returned juga 1:3 untuk Electronics dan Wearables. **Maka kita bisa simpulkan bahwa jumlah transaksi pada tiap product hampir sama**\n",
    "\n",
    "**INSIGHT :**\n",
    "\n",
    "Masih sama seperti tadi, perusahaan dapat menambah product pada Category agar kita bisa melihat lebih jelas Category mana yang tidak populer."
   ]
  },
  {
   "cell_type": "markdown",
   "metadata": {},
   "source": [
    "### Visualisasi4 (Line Chart : Trend penjualan berdasarkan waktu. )"
   ]
  },
  {
   "cell_type": "code",
   "execution_count": null,
   "metadata": {},
   "outputs": [
    {
     "data": {
      "application/vnd.plotly.v1+json": {
       "config": {
        "plotlyServerURL": "https://plot.ly"
       },
       "data": [
        {
         "hovertemplate": "Order Month=%{x}<br>Total Quantity=%{y}<extra></extra>",
         "legendgroup": "",
         "line": {
          "color": "#636efa",
          "dash": "solid"
         },
         "marker": {
          "symbol": "circle"
         },
         "mode": "lines",
         "name": "",
         "orientation": "v",
         "showlegend": false,
         "type": "scatter",
         "x": [
          "2023-01",
          "2023-02",
          "2023-03",
          "2023-04",
          "2023-05",
          "2023-06",
          "2023-07",
          "2023-08",
          "2023-09",
          "2023-10",
          "2023-11",
          "2023-12",
          "2024-01"
         ],
         "xaxis": "x",
         "y": [
          257,
          161,
          169,
          146,
          234,
          222,
          187,
          186,
          198,
          219,
          209,
          195,
          47
         ],
         "yaxis": "y"
        }
       ],
       "layout": {
        "autosize": false,
        "height": 600,
        "legend": {
         "tracegroupgap": 0
        },
        "template": {
         "data": {
          "bar": [
           {
            "error_x": {
             "color": "#2a3f5f"
            },
            "error_y": {
             "color": "#2a3f5f"
            },
            "marker": {
             "line": {
              "color": "#E5ECF6",
              "width": 0.5
             },
             "pattern": {
              "fillmode": "overlay",
              "size": 10,
              "solidity": 0.2
             }
            },
            "type": "bar"
           }
          ],
          "barpolar": [
           {
            "marker": {
             "line": {
              "color": "#E5ECF6",
              "width": 0.5
             },
             "pattern": {
              "fillmode": "overlay",
              "size": 10,
              "solidity": 0.2
             }
            },
            "type": "barpolar"
           }
          ],
          "carpet": [
           {
            "aaxis": {
             "endlinecolor": "#2a3f5f",
             "gridcolor": "white",
             "linecolor": "white",
             "minorgridcolor": "white",
             "startlinecolor": "#2a3f5f"
            },
            "baxis": {
             "endlinecolor": "#2a3f5f",
             "gridcolor": "white",
             "linecolor": "white",
             "minorgridcolor": "white",
             "startlinecolor": "#2a3f5f"
            },
            "type": "carpet"
           }
          ],
          "choropleth": [
           {
            "colorbar": {
             "outlinewidth": 0,
             "ticks": ""
            },
            "type": "choropleth"
           }
          ],
          "contour": [
           {
            "colorbar": {
             "outlinewidth": 0,
             "ticks": ""
            },
            "colorscale": [
             [
              0,
              "#0d0887"
             ],
             [
              0.1111111111111111,
              "#46039f"
             ],
             [
              0.2222222222222222,
              "#7201a8"
             ],
             [
              0.3333333333333333,
              "#9c179e"
             ],
             [
              0.4444444444444444,
              "#bd3786"
             ],
             [
              0.5555555555555556,
              "#d8576b"
             ],
             [
              0.6666666666666666,
              "#ed7953"
             ],
             [
              0.7777777777777778,
              "#fb9f3a"
             ],
             [
              0.8888888888888888,
              "#fdca26"
             ],
             [
              1,
              "#f0f921"
             ]
            ],
            "type": "contour"
           }
          ],
          "contourcarpet": [
           {
            "colorbar": {
             "outlinewidth": 0,
             "ticks": ""
            },
            "type": "contourcarpet"
           }
          ],
          "heatmap": [
           {
            "colorbar": {
             "outlinewidth": 0,
             "ticks": ""
            },
            "colorscale": [
             [
              0,
              "#0d0887"
             ],
             [
              0.1111111111111111,
              "#46039f"
             ],
             [
              0.2222222222222222,
              "#7201a8"
             ],
             [
              0.3333333333333333,
              "#9c179e"
             ],
             [
              0.4444444444444444,
              "#bd3786"
             ],
             [
              0.5555555555555556,
              "#d8576b"
             ],
             [
              0.6666666666666666,
              "#ed7953"
             ],
             [
              0.7777777777777778,
              "#fb9f3a"
             ],
             [
              0.8888888888888888,
              "#fdca26"
             ],
             [
              1,
              "#f0f921"
             ]
            ],
            "type": "heatmap"
           }
          ],
          "heatmapgl": [
           {
            "colorbar": {
             "outlinewidth": 0,
             "ticks": ""
            },
            "colorscale": [
             [
              0,
              "#0d0887"
             ],
             [
              0.1111111111111111,
              "#46039f"
             ],
             [
              0.2222222222222222,
              "#7201a8"
             ],
             [
              0.3333333333333333,
              "#9c179e"
             ],
             [
              0.4444444444444444,
              "#bd3786"
             ],
             [
              0.5555555555555556,
              "#d8576b"
             ],
             [
              0.6666666666666666,
              "#ed7953"
             ],
             [
              0.7777777777777778,
              "#fb9f3a"
             ],
             [
              0.8888888888888888,
              "#fdca26"
             ],
             [
              1,
              "#f0f921"
             ]
            ],
            "type": "heatmapgl"
           }
          ],
          "histogram": [
           {
            "marker": {
             "pattern": {
              "fillmode": "overlay",
              "size": 10,
              "solidity": 0.2
             }
            },
            "type": "histogram"
           }
          ],
          "histogram2d": [
           {
            "colorbar": {
             "outlinewidth": 0,
             "ticks": ""
            },
            "colorscale": [
             [
              0,
              "#0d0887"
             ],
             [
              0.1111111111111111,
              "#46039f"
             ],
             [
              0.2222222222222222,
              "#7201a8"
             ],
             [
              0.3333333333333333,
              "#9c179e"
             ],
             [
              0.4444444444444444,
              "#bd3786"
             ],
             [
              0.5555555555555556,
              "#d8576b"
             ],
             [
              0.6666666666666666,
              "#ed7953"
             ],
             [
              0.7777777777777778,
              "#fb9f3a"
             ],
             [
              0.8888888888888888,
              "#fdca26"
             ],
             [
              1,
              "#f0f921"
             ]
            ],
            "type": "histogram2d"
           }
          ],
          "histogram2dcontour": [
           {
            "colorbar": {
             "outlinewidth": 0,
             "ticks": ""
            },
            "colorscale": [
             [
              0,
              "#0d0887"
             ],
             [
              0.1111111111111111,
              "#46039f"
             ],
             [
              0.2222222222222222,
              "#7201a8"
             ],
             [
              0.3333333333333333,
              "#9c179e"
             ],
             [
              0.4444444444444444,
              "#bd3786"
             ],
             [
              0.5555555555555556,
              "#d8576b"
             ],
             [
              0.6666666666666666,
              "#ed7953"
             ],
             [
              0.7777777777777778,
              "#fb9f3a"
             ],
             [
              0.8888888888888888,
              "#fdca26"
             ],
             [
              1,
              "#f0f921"
             ]
            ],
            "type": "histogram2dcontour"
           }
          ],
          "mesh3d": [
           {
            "colorbar": {
             "outlinewidth": 0,
             "ticks": ""
            },
            "type": "mesh3d"
           }
          ],
          "parcoords": [
           {
            "line": {
             "colorbar": {
              "outlinewidth": 0,
              "ticks": ""
             }
            },
            "type": "parcoords"
           }
          ],
          "pie": [
           {
            "automargin": true,
            "type": "pie"
           }
          ],
          "scatter": [
           {
            "fillpattern": {
             "fillmode": "overlay",
             "size": 10,
             "solidity": 0.2
            },
            "type": "scatter"
           }
          ],
          "scatter3d": [
           {
            "line": {
             "colorbar": {
              "outlinewidth": 0,
              "ticks": ""
             }
            },
            "marker": {
             "colorbar": {
              "outlinewidth": 0,
              "ticks": ""
             }
            },
            "type": "scatter3d"
           }
          ],
          "scattercarpet": [
           {
            "marker": {
             "colorbar": {
              "outlinewidth": 0,
              "ticks": ""
             }
            },
            "type": "scattercarpet"
           }
          ],
          "scattergeo": [
           {
            "marker": {
             "colorbar": {
              "outlinewidth": 0,
              "ticks": ""
             }
            },
            "type": "scattergeo"
           }
          ],
          "scattergl": [
           {
            "marker": {
             "colorbar": {
              "outlinewidth": 0,
              "ticks": ""
             }
            },
            "type": "scattergl"
           }
          ],
          "scattermapbox": [
           {
            "marker": {
             "colorbar": {
              "outlinewidth": 0,
              "ticks": ""
             }
            },
            "type": "scattermapbox"
           }
          ],
          "scatterpolar": [
           {
            "marker": {
             "colorbar": {
              "outlinewidth": 0,
              "ticks": ""
             }
            },
            "type": "scatterpolar"
           }
          ],
          "scatterpolargl": [
           {
            "marker": {
             "colorbar": {
              "outlinewidth": 0,
              "ticks": ""
             }
            },
            "type": "scatterpolargl"
           }
          ],
          "scatterternary": [
           {
            "marker": {
             "colorbar": {
              "outlinewidth": 0,
              "ticks": ""
             }
            },
            "type": "scatterternary"
           }
          ],
          "surface": [
           {
            "colorbar": {
             "outlinewidth": 0,
             "ticks": ""
            },
            "colorscale": [
             [
              0,
              "#0d0887"
             ],
             [
              0.1111111111111111,
              "#46039f"
             ],
             [
              0.2222222222222222,
              "#7201a8"
             ],
             [
              0.3333333333333333,
              "#9c179e"
             ],
             [
              0.4444444444444444,
              "#bd3786"
             ],
             [
              0.5555555555555556,
              "#d8576b"
             ],
             [
              0.6666666666666666,
              "#ed7953"
             ],
             [
              0.7777777777777778,
              "#fb9f3a"
             ],
             [
              0.8888888888888888,
              "#fdca26"
             ],
             [
              1,
              "#f0f921"
             ]
            ],
            "type": "surface"
           }
          ],
          "table": [
           {
            "cells": {
             "fill": {
              "color": "#EBF0F8"
             },
             "line": {
              "color": "white"
             }
            },
            "header": {
             "fill": {
              "color": "#C8D4E3"
             },
             "line": {
              "color": "white"
             }
            },
            "type": "table"
           }
          ]
         },
         "layout": {
          "annotationdefaults": {
           "arrowcolor": "#2a3f5f",
           "arrowhead": 0,
           "arrowwidth": 1
          },
          "autotypenumbers": "strict",
          "coloraxis": {
           "colorbar": {
            "outlinewidth": 0,
            "ticks": ""
           }
          },
          "colorscale": {
           "diverging": [
            [
             0,
             "#8e0152"
            ],
            [
             0.1,
             "#c51b7d"
            ],
            [
             0.2,
             "#de77ae"
            ],
            [
             0.3,
             "#f1b6da"
            ],
            [
             0.4,
             "#fde0ef"
            ],
            [
             0.5,
             "#f7f7f7"
            ],
            [
             0.6,
             "#e6f5d0"
            ],
            [
             0.7,
             "#b8e186"
            ],
            [
             0.8,
             "#7fbc41"
            ],
            [
             0.9,
             "#4d9221"
            ],
            [
             1,
             "#276419"
            ]
           ],
           "sequential": [
            [
             0,
             "#0d0887"
            ],
            [
             0.1111111111111111,
             "#46039f"
            ],
            [
             0.2222222222222222,
             "#7201a8"
            ],
            [
             0.3333333333333333,
             "#9c179e"
            ],
            [
             0.4444444444444444,
             "#bd3786"
            ],
            [
             0.5555555555555556,
             "#d8576b"
            ],
            [
             0.6666666666666666,
             "#ed7953"
            ],
            [
             0.7777777777777778,
             "#fb9f3a"
            ],
            [
             0.8888888888888888,
             "#fdca26"
            ],
            [
             1,
             "#f0f921"
            ]
           ],
           "sequentialminus": [
            [
             0,
             "#0d0887"
            ],
            [
             0.1111111111111111,
             "#46039f"
            ],
            [
             0.2222222222222222,
             "#7201a8"
            ],
            [
             0.3333333333333333,
             "#9c179e"
            ],
            [
             0.4444444444444444,
             "#bd3786"
            ],
            [
             0.5555555555555556,
             "#d8576b"
            ],
            [
             0.6666666666666666,
             "#ed7953"
            ],
            [
             0.7777777777777778,
             "#fb9f3a"
            ],
            [
             0.8888888888888888,
             "#fdca26"
            ],
            [
             1,
             "#f0f921"
            ]
           ]
          },
          "colorway": [
           "#636efa",
           "#EF553B",
           "#00cc96",
           "#ab63fa",
           "#FFA15A",
           "#19d3f3",
           "#FF6692",
           "#B6E880",
           "#FF97FF",
           "#FECB52"
          ],
          "font": {
           "color": "#2a3f5f"
          },
          "geo": {
           "bgcolor": "white",
           "lakecolor": "white",
           "landcolor": "#E5ECF6",
           "showlakes": true,
           "showland": true,
           "subunitcolor": "white"
          },
          "hoverlabel": {
           "align": "left"
          },
          "hovermode": "closest",
          "mapbox": {
           "style": "light"
          },
          "paper_bgcolor": "white",
          "plot_bgcolor": "#E5ECF6",
          "polar": {
           "angularaxis": {
            "gridcolor": "white",
            "linecolor": "white",
            "ticks": ""
           },
           "bgcolor": "#E5ECF6",
           "radialaxis": {
            "gridcolor": "white",
            "linecolor": "white",
            "ticks": ""
           }
          },
          "scene": {
           "xaxis": {
            "backgroundcolor": "#E5ECF6",
            "gridcolor": "white",
            "gridwidth": 2,
            "linecolor": "white",
            "showbackground": true,
            "ticks": "",
            "zerolinecolor": "white"
           },
           "yaxis": {
            "backgroundcolor": "#E5ECF6",
            "gridcolor": "white",
            "gridwidth": 2,
            "linecolor": "white",
            "showbackground": true,
            "ticks": "",
            "zerolinecolor": "white"
           },
           "zaxis": {
            "backgroundcolor": "#E5ECF6",
            "gridcolor": "white",
            "gridwidth": 2,
            "linecolor": "white",
            "showbackground": true,
            "ticks": "",
            "zerolinecolor": "white"
           }
          },
          "shapedefaults": {
           "line": {
            "color": "#2a3f5f"
           }
          },
          "ternary": {
           "aaxis": {
            "gridcolor": "white",
            "linecolor": "white",
            "ticks": ""
           },
           "baxis": {
            "gridcolor": "white",
            "linecolor": "white",
            "ticks": ""
           },
           "bgcolor": "#E5ECF6",
           "caxis": {
            "gridcolor": "white",
            "linecolor": "white",
            "ticks": ""
           }
          },
          "title": {
           "x": 0.05
          },
          "xaxis": {
           "automargin": true,
           "gridcolor": "white",
           "linecolor": "white",
           "ticks": "",
           "title": {
            "standoff": 15
           },
           "zerolinecolor": "white",
           "zerolinewidth": 2
          },
          "yaxis": {
           "automargin": true,
           "gridcolor": "white",
           "linecolor": "white",
           "ticks": "",
           "title": {
            "standoff": 15
           },
           "zerolinecolor": "white",
           "zerolinewidth": 2
          }
         }
        },
        "title": {
         "text": "Monthly Sales Trend",
         "x": 0.5
        },
        "xaxis": {
         "anchor": "y",
         "domain": [
          0,
          1
         ],
         "title": {
          "text": "Order Month"
         }
        },
        "yaxis": {
         "anchor": "x",
         "domain": [
          0,
          1
         ],
         "title": {
          "text": "Total Quantity"
         }
        }
       }
      }
     },
     "metadata": {},
     "output_type": "display_data"
    }
   ],
   "source": [
    "# ubah Order Date menjadi datetime, untuk memastikan.\n",
    "ms[\"Order Date\"] = pd.to_datetime(ms[\"Order Date\"])\n",
    "# groupby order date dengan quantity\n",
    "# order date diambil month dan yearnya ([\"Order Date\"].dt.to_period(\"M\"))\n",
    "# quantity di sum()\n",
    "# reset_index agar urut tanggalnya\n",
    "sales_trend = ms.groupby(ms[\"Order Date\"].dt.to_period(\"M\"))[\"Quantity\"].sum().reset_index()\n",
    "# order dalam variable tadi diubah menjadi string agar memastikan bisa diubah\n",
    "sales_trend[\"Order Date\"] = sales_trend[\"Order Date\"].astype(str)\n",
    "\n",
    "# masukkan attribute chart. saya pakai line chart\n",
    "fig = px.line(sales_trend, x=\"Order Date\", y=\"Quantity\", \n",
    "              title=\"Monthly Sales Trend\", \n",
    "              labels={\"Order Date\": \"Order Month\", \"Quantity\": \"Total Quantity\"})\n",
    "# update posisi title dan tinggi.\n",
    "fig.update_layout(title_x = 0.5, autosize=False, height=600)\n",
    "fig.show()"
   ]
  },
  {
   "cell_type": "markdown",
   "metadata": {},
   "source": [
    "#### Kesimpulan dan Insight\n",
    "**KESIMPULAN :**\n",
    "\n",
    "Data yang transaksi yang ada pada Dataset hanya mencakup sales selama 1 tahun. Dari yang saya lihat ada sebuah tren naik-turun untuk sales setiap 3 bulan. Bisa kita lihat dari Januari **->Februari, Maret->** April sales mengalami **penurunan lalu pada bulan Mei sales naik**. Kemudian dari Mei **->Juni, Juli->** Agustus sales menurun kembali. Setelah itu **sales naik lagi pada bulan September**. Terakhir kembali turun dari October **->November->** Desember.\n",
    "\n",
    "**INSIGHT :**\n",
    "\n",
    "Team pengembangan bisnis perlu menghandle penurunan sales pada bulan-bulan tersebut. Saya memiliki dua saran. **Saran pertama saya, untuk memberi diskon atau promo untuk bulan tersebut. Kedua memberi sebuah bundle untuk product. Untuk saran pertama ini akan saya lakukan Uji Korelasi antara harga murah dengan jumlah quantity terjual**"
   ]
  },
  {
   "cell_type": "markdown",
   "metadata": {},
   "source": [
    "## Uji Korelasi - Statistik Deskriptif"
   ]
  },
  {
   "cell_type": "markdown",
   "metadata": {},
   "source": [
    "Sebelumnya terdapat insight di mana saya menyarankan pemberian diskon untuk product di bulan-bulan tertentu. Di sini saya akan mencari tau :\n",
    "'Apakah customer lebih memilih product dengan harga murah?'\n",
    "\n",
    "Uji korelasi yang akan saya gunakan di analisis ini adalah Uji Spearman. Spearman ini akan di uji untuk Unit Price dengan Quantity. Spearman ini digunakan karena Unit Price dan Quantity merupakan sebuah nilai numerical. Saya tidak menggunakan Pearson karena dari hasil Uji Normalitas sebelumnya disimpulkan bahwa data ini tidak terdistribusi dengan normal."
   ]
  },
  {
   "cell_type": "code",
   "execution_count": null,
   "metadata": {},
   "outputs": [
    {
     "name": "stdout",
     "output_type": "stream",
     "text": [
      "rho-correlation: -0.04, p-value: 0.23532441239581475\n"
     ]
    }
   ],
   "source": [
    "# Di sini saya menggunakan function .spearmanr() dari class scipy. Dengan argument berisikan Unit Price dan Quantity.\n",
    "# Nilainya dimasukkan ke variable corr_rho dan pval_s.\n",
    "corr_rho, pval_s = stats.spearmanr(ms['Unit Price'], ms['Quantity'])\n",
    "print(f\"rho-correlation: {corr_rho:.2f}, p-value: {pval_s}\")"
   ]
  },
  {
   "cell_type": "markdown",
   "metadata": {},
   "source": [
    "### Kesimpulan dan Insight\n",
    "\n",
    "Kita dapatkan nilai rho sebesar -0.04. Nilai ini mendekati 0 yang menunjukkan hubungan yang sangat lemah.\n",
    "\n",
    "Untuk nilai P-Value di dapatkan 0.235. Karena P-Value > 0.05 maka\n",
    "\n",
    "**KESIMPULAN :**\n",
    "\n",
    "Hubungan antara Unit Price dan Quantity tidak signifikan. Yang artinya harga dari sebuah barang tidak menjamin barang tersebut terjual dengan banyak. "
   ]
  },
  {
   "cell_type": "markdown",
   "metadata": {},
   "source": [
    "# 6. Pengambilan Kesimpulan"
   ]
  },
  {
   "cell_type": "markdown",
   "metadata": {},
   "source": [
    "Dari hasil analisis yang saya lakukan sebelumnya. Bisa diambil sebuah kesimpulan dan insight dengan point-point berikut ini:\n"
   ]
  },
  {
   "cell_type": "markdown",
   "metadata": {},
   "source": [
    "## - Statistik Inferensial"
   ]
  },
  {
   "cell_type": "markdown",
   "metadata": {},
   "source": [
    "**KESIMPULAN dan INSIGHT**\n",
    "\n",
    "Pada analisis Statistik Inferensial ditemukan bahwa tidak ada hubungan sama sekali antara gender dengan banyaknya product yang terjual. Oleh karena itu **team pengembang bisnis tidak perlu fokus untuk mengembangkan product yang disukai oleh gender tertentu**"
   ]
  },
  {
   "cell_type": "markdown",
   "metadata": {},
   "source": [
    "## - Visualisasi 1 - Top 5 Products"
   ]
  },
  {
   "cell_type": "markdown",
   "metadata": {},
   "source": [
    "**KESIMPULAN dan INSIGHT**\n",
    "\n",
    "Dari Chart Top 5 Products saya dapatkan bahwa Monitor lebih banyak dibutuhkan oleh customer. Seperti yang saya sebutkan sebelumnya pada bagian 'visualisasi1', bahwa customer yang membeli Monitor bukan berarti pengguna PC, melainkan pengguna Laptop. Dengan banyaknya calon pembeli Monitor, Monitor menjadi barang yang akan lebih banyak dibeli. Sehingga **team pengembangan bisni dapat memberi promo untuk product lain. Misalnya Buy 2 Get 1 atau buy product A get product B, untuk product-product yang kurang populer.**"
   ]
  },
  {
   "cell_type": "markdown",
   "metadata": {},
   "source": [
    "## - Visualisasi 2 - Sales Distribution by Category"
   ]
  },
  {
   "cell_type": "markdown",
   "metadata": {},
   "source": [
    "**KESIMPULAN dan INSIGHT**\n",
    "\n",
    "Seperti yang saya tuliskan pada analisis visualisasi 2. Bahwa Category ini belum bisa digunakan sebagai perbandingan karena product yang terdapat pada Category Wearables hanya terdapat Smartwatch. Dibandingkan Electronics yang memiliki 3 product dan Accessories memiliki 3 product. perbandingan untuk Electronics:Accessories:Wearables adalah 1116:996:318. Mungkin jika kita membandingkan Electronics dan Accessories akan adil karena jumlah perbandingan Product Name pada kedua Category tersebut adalah 1:1. Di sini kita bisa melihat bahwa Electronics memiliki peforma lebih dari Accessories. Namun jika kita membandingkan Electronics dengan Wearables, perbandingan Product Name nya adalah 3:1. Jadi kalau saya ingin membandingkan peforma product tersebut, saya harus membagi 3 penjualan Electronics agar perbandingannya setara. Hal ini saya lakukan karena pada data penjualan untuk Smartwatch (Wearables) berada pada 318 yang hampir sama dengan kebanyakan product dengan nilai terjual 300+ (kecuali Monitor, 400+). **Jadi jika kita anggap dengan membagi 3 penjualan category Electronics dan Accessories, akan di dapatkan 372:332:318. Category Wearables masih memiliki nilai jual lebih rendah daripada Category lainnya. Jika team pengembangan bisnis tidak masalah dengan asumsi ini, maka kesimpulannya Category Electronics yang memiliki peforma terbagus.** Akan tetapi menurut saya pribadi hal ini tidak begitu akurat dalam mengambil kesimpulan, jadi akan lebih bagus jika **perusahaan menambah product baru dengan Category Wearables sehingga lebih mudah jika ingin melihat perbandingannya atau menghapus Category Wearables dan menggambungkan Smartwatch ke Category Accessories/Electronics.** Jika team pengembangan bisnis tetap memakai asumsi sales/3. Saran saya masih sama seperti Visualisasi 1 **tambahkan bundles atau promo untuk category yang tidak populer.**"
   ]
  },
  {
   "cell_type": "markdown",
   "metadata": {},
   "source": [
    "## - Visualisasi 3 - Most Returned Product by Category"
   ]
  },
  {
   "cell_type": "markdown",
   "metadata": {},
   "source": [
    "**KESIMPULAN dan INSIGHT**\n",
    "\n",
    "Sama seperti Visualisasi 2. Perbandingan untuk returned product by category adalah 122:103:33(Electronics:Accessories:Wearables). Jika asumsi dibagi 3 untuk Electronics dan Wearables akan menjadi 40:34:33. **Product Electronics paling sering dikembalikan oleh customer**. Oleh karena itu **team pengembangan bisnis harus mengevaluasi antara kualitas barang yang dikirim atau kualitas jasa pengiriman. Hal ini bisa dilakukan dengan pengambilan survey atau feedback dari customer yang ingin mengembalikan product.** "
   ]
  },
  {
   "cell_type": "markdown",
   "metadata": {},
   "source": [
    "## - Visualisasi 4 - Monthly Sales Trend"
   ]
  },
  {
   "cell_type": "markdown",
   "metadata": {},
   "source": [
    "**KESIMPULAN dan INSIGHT**\n",
    "\n",
    "Penjelasan Line Chart teridentifikasi penaikan dan penurunan barang dengan interval waktu yang berpola, yaitu setiap 3 bulan. **Untuk team pengembangan bisnis sebaiknya membuat sebuah promo atau diskon untuk bulan-bulan terjadinya penurunan.** Akan tetapi karena Hubungan antara harga murah dengan quantity terjual belum di uji, **maka bisa dipilih jalur promo. Promo di sini tidak selalu hanya diskon atau pun buy 1 get 1. Promo bisa dilakukan dengan menghubungkan season, event ataupun kolaborasi dengan product atau influencer.** Diharapkan agar sales naik untuk bulan-bulan tersebut."
   ]
  },
  {
   "cell_type": "markdown",
   "metadata": {},
   "source": [
    "## - Statistik - Descriptive"
   ]
  },
  {
   "cell_type": "markdown",
   "metadata": {},
   "source": [
    "**KESIMPULAN dan INSIGHT**\n",
    "\n",
    "Dari hasil analisis Statistik Descriptive saya mendapatkan bahwa harga sebuah product tidak mempengaruhi banyaknya product terjual. Maka dari itu **team pengembangan bisni tidak perlu meng-improve harga product. Team pengembangan bisnis bisa cari alternatif lain seperti pembuatan bundling.**"
   ]
  }
 ],
 "metadata": {
  "kernelspec": {
   "display_name": "myenv123",
   "language": "python",
   "name": "python3"
  },
  "language_info": {
   "codemirror_mode": {
    "name": "ipython",
    "version": 3
   },
   "file_extension": ".py",
   "mimetype": "text/x-python",
   "name": "python",
   "nbconvert_exporter": "python",
   "pygments_lexer": "ipython3",
   "version": "3.10.15"
  }
 },
 "nbformat": 4,
 "nbformat_minor": 2
}
